{
 "cells": [
  {
   "cell_type": "markdown",
   "metadata": {
    "application/vnd.databricks.v1+cell": {
     "cellMetadata": {},
     "inputWidgets": {},
     "nuid": "1b5ddae6-36d8-4b4d-bf29-1c389005d42f",
     "showTitle": false,
     "tableResultSettingsMap": {},
     "title": ""
    }
   },
   "source": [
    "# Predicting Tip Amounts in a Food & Snack Restaurant using PySpark in Databricks\n",
    "#### Problem Statement:\n",
    "The goal of this project is to predict the tip amount received by employees in a Food & Snack restaurant based on various factors such as total bill, customer gender, smoking status, day and time of visit, and party size. Predicting tip amounts can help in optimizing staff scheduling, improving customer experience strategies, and setting fair expectations for employees.\n",
    "\n",
    "#### Data Loading and Cleaning:\n",
    "- Data Source: A CSV file containing tip records.\n",
    "- Loaded the CSV into a Spark DataFrame using spark.read.csv(..., header=True, inferSchema=True).\n",
    "- Checked for and removed null or invalid entries.\n",
    "- Converted categorical string columns (sex, smoking, day, time) to numeric form using StringIndexer.\n",
    "\n",
    "#### Exploratory Data Analysis (EDA):\n",
    "- Used groupBy() and aggregation to analyze trends:\n",
    "  - Average tips by sex, smoking status, day, and time.\n",
    "  - Correlation between total bill and tip.\n",
    "- Visualized results with Databricks built-in visual tools:\n",
    "  - Boxplots for tip distribution.\n",
    "  - Bar charts for average tip by categorical variables.\n",
    "\n",
    "#### Key Findings:\n",
    "- Total bill and party size were the strongest predictors of tip amount.\n",
    "- Categorical features (e.g., day, time, smoking) had modest but notable influence.\n",
    "- The model achieved an R² of ~0.75, indicating a good level of predictive accuracy.\n",
    "- Weekends and larger party sizes typically resulted in higher tips, particularly for non-smokers during dinner time.\n",
    "\n",
    "#### Conclusion:\n",
    "This project demonstrates how PySpark and Databricks can be effectively used for real-world regression modeling. From ingestion to modeling, it provided a scalable and efficient pipeline for predicting financial outcomes like tipping behavior. With further tuning and perhaps nonlinear models (e.g., RandomForest), prediction accuracy can be improved even more."
   ]
  },
  {
   "cell_type": "markdown",
   "metadata": {
    "application/vnd.databricks.v1+cell": {
     "cellMetadata": {},
     "inputWidgets": {},
     "nuid": "e044cc1f-9c09-476f-ba13-58b1d46f0598",
     "showTitle": false,
     "tableResultSettingsMap": {},
     "title": ""
    }
   },
   "source": [
    "####### Read this documentation for more clarification of codes below\n",
    "\n",
    "These are the key evaluation metrics:\n",
    "\n",
    "Metric\tMeaning\tGood Value\n",
    "r2\tR-squared — how much of the variance in the target variable is explained by the model.\tCloser to 1 is better\n",
    "meanAbsoluteError - The average of absolute errors (how far off your predictions are, on average).\tCloser to 0 is better\n",
    "meanSquaredError - Average of squared errors (penalizes larger errors more heavily).\n",
    "\n",
    "In PySpark, the VectorAssembler is a feature transformer provided by pyspark.ml.feature. It is used to combine multiple columns (features) into a single vector column — which is required for many machine learning models in Spark MLlib.\n",
    "\n",
    "Most Spark ML models (like linear regression, decision trees, clustering, etc.) require input features to be in a single column of type Vector. But your dataset often has features spread across multiple columns. VectorAssembler helps by combining those into one.\n",
    "\n",
    "In machine learning, the term feature is just a fancy word for:\n",
    "A measurable property or characteristic of the data you're using to make predictions.\n",
    "In a DataFrame or table:\n",
    "A column like Age, Salary, Experience, etc., becomes a feature if you're using it to help predict something.\n",
    "\n",
    "inputCols: A list of column names that you want to combine into a single vector column.\n",
    "outputCol: The name of the new column where the result (a vector) will be stored.\n",
    "\n",
    "if your column is a string like \"Male\", \"Female\", \"High\", \"Low\", etc., you must convert it to numeric using:\n",
    "StringIndexer → Converts string labels to numeric index (e.g., \"Male\" → 0, \"Female\" → 1)\n",
    "OneHotEncoder → Converts categories into binary vectors (e.g., \"Red\", \"Green\", \"Blue\" → [1,0,0], [0,1,0], [0,0,1]).\n",
    "\n",
    "Linear Regression: Used For Predicting continuous numbers like Predicting house prices, salary, or temperature.\n",
    "How it works:\n",
    "It draws a straight line through data points.\n",
    "Tries to find the best line that minimizes the error between predicted and actual values.\n",
    "Real-life example: You want to predict someone's salary based on years of experience.\n",
    "\n",
    "Logistic Regression: Used For Binary classification (Yes/No, 0/1, True/False) like Will a customer buy a product? (Yes/No), Is this email spam?\n",
    "How it works:\n",
    "It gives probabilities and puts a threshold (usually 0.5) to make decisions.\n",
    "Think of it like: “What’s the chance this belongs to class A or B?”\n",
    "Real-life example: You input someone’s age, income, and behavior → the model predicts whether they will buy your product.\n",
    "\n",
    "Decision Trees: Used For Classification or Regression like Predict whether a loan application should be approved.\n",
    "How it works:\n",
    "It asks a series of questions (like a flowchart).\n",
    "Each decision leads to another branch until you get a prediction.\n",
    "Real-life example: Is income > $50k? → Yes → Has debt? → No → Approve loan\n",
    "It’s easy to understand and interpret.\n",
    "\n",
    "Clustering (e.g., K-Means): Used For Grouping similar data together (Unsupervised Learning) like Customer segmentation, image compression.\n",
    "How it works:\n",
    "It groups similar data points into clusters.\n",
    "It doesn’t know labels in advance; it discovers patterns in the data.\n",
    "Real-life example:\n",
    "Group customers by behavior into 3 segments: (1) High spenders, (2) Occasional buyers, (3) New users\n",
    "\n",
    "coefficients will give how much salary increase whenever years of experience increas so if years of experience is 5 and the coefficientts is 500 then when someone have 6 years of experience, the predict salary will be the salary the person earn plus 500 which is the confficients\n",
    "\n",
    "intercept will give the value of when the salary and experience prediction value is = 0, that means when the prediction encounter someone who have 0 experience and salary"
   ]
  },
  {
   "cell_type": "code",
   "execution_count": 0,
   "metadata": {
    "application/vnd.databricks.v1+cell": {
     "cellMetadata": {
      "byteLimit": 2048000,
      "rowLimit": 10000
     },
     "inputWidgets": {},
     "nuid": "40b6c1a3-52c4-4fee-80a1-2cb7a8828959",
     "showTitle": false,
     "tableResultSettingsMap": {},
     "title": ""
    }
   },
   "outputs": [
    {
     "output_type": "display_data",
     "data": {
      "text/html": [
       "<style scoped>\n",
       "  .table-result-container {\n",
       "    max-height: 300px;\n",
       "    overflow: auto;\n",
       "  }\n",
       "  table, th, td {\n",
       "    border: 1px solid black;\n",
       "    border-collapse: collapse;\n",
       "  }\n",
       "  th, td {\n",
       "    padding: 5px;\n",
       "  }\n",
       "  th {\n",
       "    text-align: left;\n",
       "  }\n",
       "</style><div class='table-result-container'><table class='table-result'><thead style='background-color: white'><tr><th>total_bills</th><th>tip</th><th>sex</th><th>smoking</th><th>day</th><th>time</th><th>size</th></tr></thead><tbody><tr><td>21.12</td><td>2.1</td><td>male</td><td>no</td><td>sunny</td><td>dinner</td><td>2</td></tr><tr><td>32.17</td><td>1.2</td><td>male</td><td>no</td><td>sunny</td><td>dinner</td><td>1</td></tr><tr><td>19.98</td><td>3.1</td><td>male</td><td>no</td><td>sunny</td><td>dinner</td><td>3</td></tr><tr><td>12.49</td><td>2.16</td><td>female</td><td>no</td><td>sunny</td><td>dinner</td><td>3</td></tr><tr><td>18.57</td><td>2.43</td><td>female</td><td>no</td><td>sunny</td><td>dinner</td><td>2</td></tr><tr><td>24.25</td><td>1.56</td><td>male</td><td>no</td><td>sunny</td><td>dinner</td><td>2</td></tr><tr><td>36.1</td><td>3.11</td><td>female</td><td>no</td><td>sunny</td><td>dinner</td><td>1</td></tr><tr><td>27.34</td><td>2.31</td><td>female</td><td>no</td><td>sunny</td><td>dinner</td><td>1</td></tr><tr><td>13.89</td><td>2.67</td><td>male</td><td>no</td><td>sunny</td><td>dinner</td><td>2</td></tr><tr><td>18.89</td><td>4.32</td><td>male</td><td>no</td><td>sunny</td><td>dinner</td><td>1</td></tr><tr><td>25.12</td><td>1.48</td><td>male</td><td>no</td><td>sunny</td><td>dinner</td><td>3</td></tr><tr><td>14.84</td><td>2.78</td><td>male</td><td>no</td><td>sunny</td><td>dinner</td><td>2</td></tr><tr><td>16.89</td><td>3.12</td><td>male</td><td>no</td><td>sunny</td><td>dinner</td><td>1</td></tr><tr><td>21.87</td><td>3.69</td><td>female</td><td>no</td><td>sunny</td><td>dinner</td><td>1</td></tr><tr><td>32.21</td><td>2.41</td><td>female</td><td>no</td><td>sunny</td><td>dinner</td><td>2</td></tr><tr><td>29.1</td><td>4.51</td><td>male</td><td>no</td><td>sunny</td><td>dinner</td><td>2</td></tr><tr><td>28.45</td><td>2.38</td><td>female</td><td>no</td><td>sunny</td><td>dinner</td><td>2</td></tr><tr><td>16.76</td><td>1.69</td><td>male</td><td>no</td><td>sunny</td><td>dinner</td><td>3</td></tr><tr><td>14.35</td><td>5.1</td><td>female</td><td>no</td><td>sunny</td><td>dinner</td><td>3</td></tr><tr><td>23.13</td><td>4.59</td><td>male</td><td>no</td><td>sunny</td><td>dinner</td><td>2</td></tr><tr><td>19.9</td><td>4.21</td><td>male</td><td>no</td><td>sunny</td><td>dinner</td><td>3</td></tr><tr><td>18.98</td><td>3.42</td><td>male</td><td>no</td><td>sunny</td><td>dinner</td><td>3</td></tr><tr><td>21.43</td><td>2.83</td><td>male</td><td>no</td><td>sunny</td><td>dinner</td><td>2</td></tr><tr><td>33.23</td><td>3.78</td><td>male</td><td>no</td><td>sunny</td><td>dinner</td><td>2</td></tr></tbody></table></div>"
      ]
     },
     "metadata": {
      "application/vnd.databricks.v1+output": {
       "addedWidgets": {},
       "aggData": [],
       "aggError": "",
       "aggOverflow": false,
       "aggSchema": [],
       "aggSeriesLimitReached": false,
       "aggType": "",
       "arguments": {},
       "columnCustomDisplayInfos": {},
       "data": [
        [
         21.12,
         2.1,
         "male",
         "no",
         "sunny",
         "dinner",
         2
        ],
        [
         32.17,
         1.2,
         "male",
         "no",
         "sunny",
         "dinner",
         1
        ],
        [
         19.98,
         3.1,
         "male",
         "no",
         "sunny",
         "dinner",
         3
        ],
        [
         12.49,
         2.16,
         "female",
         "no",
         "sunny",
         "dinner",
         3
        ],
        [
         18.57,
         2.43,
         "female",
         "no",
         "sunny",
         "dinner",
         2
        ],
        [
         24.25,
         1.56,
         "male",
         "no",
         "sunny",
         "dinner",
         2
        ],
        [
         36.1,
         3.11,
         "female",
         "no",
         "sunny",
         "dinner",
         1
        ],
        [
         27.34,
         2.31,
         "female",
         "no",
         "sunny",
         "dinner",
         1
        ],
        [
         13.89,
         2.67,
         "male",
         "no",
         "sunny",
         "dinner",
         2
        ],
        [
         18.89,
         4.32,
         "male",
         "no",
         "sunny",
         "dinner",
         1
        ],
        [
         25.12,
         1.48,
         "male",
         "no",
         "sunny",
         "dinner",
         3
        ],
        [
         14.84,
         2.78,
         "male",
         "no",
         "sunny",
         "dinner",
         2
        ],
        [
         16.89,
         3.12,
         "male",
         "no",
         "sunny",
         "dinner",
         1
        ],
        [
         21.87,
         3.69,
         "female",
         "no",
         "sunny",
         "dinner",
         1
        ],
        [
         32.21,
         2.41,
         "female",
         "no",
         "sunny",
         "dinner",
         2
        ],
        [
         29.1,
         4.51,
         "male",
         "no",
         "sunny",
         "dinner",
         2
        ],
        [
         28.45,
         2.38,
         "female",
         "no",
         "sunny",
         "dinner",
         2
        ],
        [
         16.76,
         1.69,
         "male",
         "no",
         "sunny",
         "dinner",
         3
        ],
        [
         14.35,
         5.1,
         "female",
         "no",
         "sunny",
         "dinner",
         3
        ],
        [
         23.13,
         4.59,
         "male",
         "no",
         "sunny",
         "dinner",
         2
        ],
        [
         19.9,
         4.21,
         "male",
         "no",
         "sunny",
         "dinner",
         3
        ],
        [
         18.98,
         3.42,
         "male",
         "no",
         "sunny",
         "dinner",
         3
        ],
        [
         21.43,
         2.83,
         "male",
         "no",
         "sunny",
         "dinner",
         2
        ],
        [
         33.23,
         3.78,
         "male",
         "no",
         "sunny",
         "dinner",
         2
        ]
       ],
       "datasetInfos": [],
       "dbfsResultPath": null,
       "isJsonSchema": true,
       "metadata": {},
       "overflow": false,
       "plotOptions": {
        "customPlotOptions": {},
        "displayType": "table",
        "pivotAggregation": null,
        "pivotColumns": null,
        "xColumns": null,
        "yColumns": null
       },
       "removedWidgets": [],
       "schema": [
        {
         "metadata": "{}",
         "name": "total_bills",
         "type": "\"double\""
        },
        {
         "metadata": "{}",
         "name": "tip",
         "type": "\"double\""
        },
        {
         "metadata": "{}",
         "name": "sex",
         "type": "\"string\""
        },
        {
         "metadata": "{}",
         "name": "smoking",
         "type": "\"string\""
        },
        {
         "metadata": "{}",
         "name": "day",
         "type": "\"string\""
        },
        {
         "metadata": "{}",
         "name": "time",
         "type": "\"string\""
        },
        {
         "metadata": "{}",
         "name": "size",
         "type": "\"integer\""
        }
       ],
       "type": "table"
      }
     },
     "output_type": "display_data"
    }
   ],
   "source": [
    "df = spark.read.csv(\"/FileStore/tables/tips-3.csv\", header=True, inferSchema=True)\n",
    "df.display()"
   ]
  },
  {
   "cell_type": "code",
   "execution_count": 0,
   "metadata": {
    "application/vnd.databricks.v1+cell": {
     "cellMetadata": {
      "byteLimit": 2048000,
      "rowLimit": 10000
     },
     "inputWidgets": {},
     "nuid": "284fe3f3-53ea-40a1-8233-1c31ebbf3988",
     "showTitle": false,
     "tableResultSettingsMap": {},
     "title": ""
    }
   },
   "outputs": [
    {
     "output_type": "stream",
     "name": "stdout",
     "output_type": "stream",
     "text": [
      "root\n |-- total_bills: double (nullable = true)\n |-- tip: double (nullable = true)\n |-- sex: string (nullable = true)\n |-- smoking: string (nullable = true)\n |-- day: string (nullable = true)\n |-- time: string (nullable = true)\n |-- size: integer (nullable = true)\n\n"
     ]
    }
   ],
   "source": [
    "df.printSchema()"
   ]
  },
  {
   "cell_type": "markdown",
   "metadata": {
    "application/vnd.databricks.v1+cell": {
     "cellMetadata": {},
     "inputWidgets": {},
     "nuid": "38ea26de-910b-4f00-806d-8a98acd5f51c",
     "showTitle": false,
     "tableResultSettingsMap": {},
     "title": ""
    }
   },
   "source": [
    "You want to analyze average tips by sex, smoking, day, and time."
   ]
  },
  {
   "cell_type": "code",
   "execution_count": 0,
   "metadata": {
    "application/vnd.databricks.v1+cell": {
     "cellMetadata": {
      "byteLimit": 2048000,
      "rowLimit": 10000
     },
     "inputWidgets": {},
     "nuid": "8e1a6837-f5aa-46be-bbe3-119ed478eebb",
     "showTitle": false,
     "tableResultSettingsMap": {},
     "title": ""
    }
   },
   "outputs": [],
   "source": [
    "from pyspark.sql.functions import avg"
   ]
  },
  {
   "cell_type": "code",
   "execution_count": 0,
   "metadata": {
    "application/vnd.databricks.v1+cell": {
     "cellMetadata": {
      "byteLimit": 2048000,
      "rowLimit": 10000
     },
     "inputWidgets": {},
     "nuid": "e41312a7-5475-490c-9011-1a78de4f98d9",
     "showTitle": false,
     "tableResultSettingsMap": {},
     "title": ""
    }
   },
   "outputs": [
    {
     "output_type": "display_data",
     "data": {
      "text/html": [
       "<style scoped>\n",
       "  .table-result-container {\n",
       "    max-height: 300px;\n",
       "    overflow: auto;\n",
       "  }\n",
       "  table, th, td {\n",
       "    border: 1px solid black;\n",
       "    border-collapse: collapse;\n",
       "  }\n",
       "  th, td {\n",
       "    padding: 5px;\n",
       "  }\n",
       "  th {\n",
       "    text-align: left;\n",
       "  }\n",
       "</style><div class='table-result-container'><table class='table-result'><thead style='background-color: white'><tr><th>sex</th><th>avg_tip</th></tr></thead><tbody><tr><td>female</td><td>2.9487499999999995</td></tr><tr><td>male</td><td>2.9600000000000004</td></tr></tbody></table></div>"
      ]
     },
     "metadata": {
      "application/vnd.databricks.v1+output": {
       "addedWidgets": {},
       "aggData": [],
       "aggError": "",
       "aggOverflow": false,
       "aggSchema": [],
       "aggSeriesLimitReached": false,
       "aggType": "",
       "arguments": {},
       "columnCustomDisplayInfos": {},
       "data": [
        [
         "female",
         2.9487499999999995
        ],
        [
         "male",
         2.9600000000000004
        ]
       ],
       "datasetInfos": [],
       "dbfsResultPath": null,
       "isJsonSchema": true,
       "metadata": {},
       "overflow": false,
       "plotOptions": {
        "customPlotOptions": {},
        "displayType": "table",
        "pivotAggregation": null,
        "pivotColumns": null,
        "xColumns": null,
        "yColumns": null
       },
       "removedWidgets": [],
       "schema": [
        {
         "metadata": "{}",
         "name": "sex",
         "type": "\"string\""
        },
        {
         "metadata": "{}",
         "name": "avg_tip",
         "type": "\"double\""
        }
       ],
       "type": "table"
      }
     },
     "output_type": "display_data"
    },
    {
     "output_type": "display_data",
     "data": {
      "text/html": [
       "<style scoped>\n",
       "  .table-result-container {\n",
       "    max-height: 300px;\n",
       "    overflow: auto;\n",
       "  }\n",
       "  table, th, td {\n",
       "    border: 1px solid black;\n",
       "    border-collapse: collapse;\n",
       "  }\n",
       "  th, td {\n",
       "    padding: 5px;\n",
       "  }\n",
       "  th {\n",
       "    text-align: left;\n",
       "  }\n",
       "</style><div class='table-result-container'><table class='table-result'><thead style='background-color: white'><tr><th>smoking</th><th>avg_tip</th></tr></thead><tbody><tr><td>no</td><td>2.9562499999999994</td></tr></tbody></table></div>"
      ]
     },
     "metadata": {
      "application/vnd.databricks.v1+output": {
       "addedWidgets": {},
       "aggData": [],
       "aggError": "",
       "aggOverflow": false,
       "aggSchema": [],
       "aggSeriesLimitReached": false,
       "aggType": "",
       "arguments": {},
       "columnCustomDisplayInfos": {},
       "data": [
        [
         "no",
         2.9562499999999994
        ]
       ],
       "datasetInfos": [],
       "dbfsResultPath": null,
       "isJsonSchema": true,
       "metadata": {},
       "overflow": false,
       "plotOptions": {
        "customPlotOptions": {},
        "displayType": "table",
        "pivotAggregation": null,
        "pivotColumns": null,
        "xColumns": null,
        "yColumns": null
       },
       "removedWidgets": [],
       "schema": [
        {
         "metadata": "{}",
         "name": "smoking",
         "type": "\"string\""
        },
        {
         "metadata": "{}",
         "name": "avg_tip",
         "type": "\"double\""
        }
       ],
       "type": "table"
      }
     },
     "output_type": "display_data"
    },
    {
     "output_type": "display_data",
     "data": {
      "text/html": [
       "<style scoped>\n",
       "  .table-result-container {\n",
       "    max-height: 300px;\n",
       "    overflow: auto;\n",
       "  }\n",
       "  table, th, td {\n",
       "    border: 1px solid black;\n",
       "    border-collapse: collapse;\n",
       "  }\n",
       "  th, td {\n",
       "    padding: 5px;\n",
       "  }\n",
       "  th {\n",
       "    text-align: left;\n",
       "  }\n",
       "</style><div class='table-result-container'><table class='table-result'><thead style='background-color: white'><tr><th>day</th><th>avg_tip</th></tr></thead><tbody><tr><td>sunny</td><td>2.9562499999999994</td></tr></tbody></table></div>"
      ]
     },
     "metadata": {
      "application/vnd.databricks.v1+output": {
       "addedWidgets": {},
       "aggData": [],
       "aggError": "",
       "aggOverflow": false,
       "aggSchema": [],
       "aggSeriesLimitReached": false,
       "aggType": "",
       "arguments": {},
       "columnCustomDisplayInfos": {},
       "data": [
        [
         "sunny",
         2.9562499999999994
        ]
       ],
       "datasetInfos": [],
       "dbfsResultPath": null,
       "isJsonSchema": true,
       "metadata": {},
       "overflow": false,
       "plotOptions": {
        "customPlotOptions": {},
        "displayType": "table",
        "pivotAggregation": null,
        "pivotColumns": null,
        "xColumns": null,
        "yColumns": null
       },
       "removedWidgets": [],
       "schema": [
        {
         "metadata": "{}",
         "name": "day",
         "type": "\"string\""
        },
        {
         "metadata": "{}",
         "name": "avg_tip",
         "type": "\"double\""
        }
       ],
       "type": "table"
      }
     },
     "output_type": "display_data"
    },
    {
     "output_type": "display_data",
     "data": {
      "text/html": [
       "<style scoped>\n",
       "  .table-result-container {\n",
       "    max-height: 300px;\n",
       "    overflow: auto;\n",
       "  }\n",
       "  table, th, td {\n",
       "    border: 1px solid black;\n",
       "    border-collapse: collapse;\n",
       "  }\n",
       "  th, td {\n",
       "    padding: 5px;\n",
       "  }\n",
       "  th {\n",
       "    text-align: left;\n",
       "  }\n",
       "</style><div class='table-result-container'><table class='table-result'><thead style='background-color: white'><tr><th>time</th><th>avg_tip</th></tr></thead><tbody><tr><td>dinner</td><td>2.9562499999999994</td></tr></tbody></table></div>"
      ]
     },
     "metadata": {
      "application/vnd.databricks.v1+output": {
       "addedWidgets": {},
       "aggData": [],
       "aggError": "",
       "aggOverflow": false,
       "aggSchema": [],
       "aggSeriesLimitReached": false,
       "aggType": "",
       "arguments": {},
       "columnCustomDisplayInfos": {},
       "data": [
        [
         "dinner",
         2.9562499999999994
        ]
       ],
       "datasetInfos": [],
       "dbfsResultPath": null,
       "isJsonSchema": true,
       "metadata": {},
       "overflow": false,
       "plotOptions": {
        "customPlotOptions": {},
        "displayType": "table",
        "pivotAggregation": null,
        "pivotColumns": null,
        "xColumns": null,
        "yColumns": null
       },
       "removedWidgets": [],
       "schema": [
        {
         "metadata": "{}",
         "name": "time",
         "type": "\"string\""
        },
        {
         "metadata": "{}",
         "name": "avg_tip",
         "type": "\"double\""
        }
       ],
       "type": "table"
      }
     },
     "output_type": "display_data"
    }
   ],
   "source": [
    "# Average tip by sex\n",
    "df.groupBy(\"sex\").agg(avg(\"tip\").alias(\"avg_tip\")).display()\n",
    "\n",
    "# Average tip by smoking status\n",
    "df.groupBy(\"smoking\").agg(avg(\"tip\").alias(\"avg_tip\")).display()\n",
    "\n",
    "# Average tip by day\n",
    "df.groupBy(\"day\").agg(avg(\"tip\").alias(\"avg_tip\")).display()\n",
    "\n",
    "# Average tip by time\n",
    "df.groupBy(\"time\").agg(avg(\"tip\").alias(\"avg_tip\")).display()"
   ]
  },
  {
   "cell_type": "markdown",
   "metadata": {
    "application/vnd.databricks.v1+cell": {
     "cellMetadata": {},
     "inputWidgets": {},
     "nuid": "a8e8dbd2-0bc4-4134-a336-607cf9f35622",
     "showTitle": false,
     "tableResultSettingsMap": {},
     "title": ""
    }
   },
   "source": [
    "Correlation Between Total Bill and Tip"
   ]
  },
  {
   "cell_type": "code",
   "execution_count": 0,
   "metadata": {
    "application/vnd.databricks.v1+cell": {
     "cellMetadata": {
      "byteLimit": 2048000,
      "rowLimit": 10000
     },
     "inputWidgets": {},
     "nuid": "d0950b50-f121-4f7b-8f51-499351c667aa",
     "showTitle": false,
     "tableResultSettingsMap": {},
     "title": ""
    }
   },
   "outputs": [
    {
     "output_type": "stream",
     "name": "stdout",
     "output_type": "stream",
     "text": [
      "Correlation between total bill and tip is: -0.11925999174135649\n"
     ]
    }
   ],
   "source": [
    "# Correlation\n",
    "correlation = df.stat.corr(\"total_bills\", \"tip\")\n",
    "print(f\"Correlation between total bill and tip is: {correlation}\")\n"
   ]
  },
  {
   "cell_type": "markdown",
   "metadata": {
    "application/vnd.databricks.v1+cell": {
     "cellMetadata": {},
     "inputWidgets": {},
     "nuid": "130dba10-5631-416e-b9bd-ba6ccc06874b",
     "showTitle": false,
     "tableResultSettingsMap": {},
     "title": ""
    }
   },
   "source": [
    "Boxplot: Tip Distribution"
   ]
  },
  {
   "cell_type": "code",
   "execution_count": 0,
   "metadata": {
    "application/vnd.databricks.v1+cell": {
     "cellMetadata": {
      "byteLimit": 2048000,
      "rowLimit": 10000
     },
     "inputWidgets": {},
     "nuid": "1218bc06-fe91-4d9b-9f39-c170e6711779",
     "showTitle": false,
     "tableResultSettingsMap": {},
     "title": ""
    }
   },
   "outputs": [
    {
     "output_type": "display_data",
     "data": {
      "text/html": [
       "<style scoped>\n",
       "  .table-result-container {\n",
       "    max-height: 300px;\n",
       "    overflow: auto;\n",
       "  }\n",
       "  table, th, td {\n",
       "    border: 1px solid black;\n",
       "    border-collapse: collapse;\n",
       "  }\n",
       "  th, td {\n",
       "    padding: 5px;\n",
       "  }\n",
       "  th {\n",
       "    text-align: left;\n",
       "  }\n",
       "</style><div class='table-result-container'><table class='table-result'><thead style='background-color: white'><tr><th>tip</th></tr></thead><tbody><tr><td>2.1</td></tr><tr><td>1.2</td></tr><tr><td>3.1</td></tr><tr><td>2.16</td></tr><tr><td>2.43</td></tr><tr><td>1.56</td></tr><tr><td>3.11</td></tr><tr><td>2.31</td></tr><tr><td>2.67</td></tr><tr><td>4.32</td></tr><tr><td>1.48</td></tr><tr><td>2.78</td></tr><tr><td>3.12</td></tr><tr><td>3.69</td></tr><tr><td>2.41</td></tr><tr><td>4.51</td></tr><tr><td>2.38</td></tr><tr><td>1.69</td></tr><tr><td>5.1</td></tr><tr><td>4.59</td></tr><tr><td>4.21</td></tr><tr><td>3.42</td></tr><tr><td>2.83</td></tr><tr><td>3.78</td></tr></tbody></table></div>"
      ]
     },
     "metadata": {
      "application/vnd.databricks.v1+output": {
       "addedWidgets": {},
       "aggData": [],
       "aggError": "",
       "aggOverflow": false,
       "aggSchema": [],
       "aggSeriesLimitReached": false,
       "aggType": "",
       "arguments": {},
       "columnCustomDisplayInfos": {},
       "data": [
        [
         2.1
        ],
        [
         1.2
        ],
        [
         3.1
        ],
        [
         2.16
        ],
        [
         2.43
        ],
        [
         1.56
        ],
        [
         3.11
        ],
        [
         2.31
        ],
        [
         2.67
        ],
        [
         4.32
        ],
        [
         1.48
        ],
        [
         2.78
        ],
        [
         3.12
        ],
        [
         3.69
        ],
        [
         2.41
        ],
        [
         4.51
        ],
        [
         2.38
        ],
        [
         1.69
        ],
        [
         5.1
        ],
        [
         4.59
        ],
        [
         4.21
        ],
        [
         3.42
        ],
        [
         2.83
        ],
        [
         3.78
        ]
       ],
       "datasetInfos": [],
       "dbfsResultPath": null,
       "isJsonSchema": true,
       "metadata": {},
       "overflow": false,
       "plotOptions": {
        "customPlotOptions": {},
        "displayType": "table",
        "pivotAggregation": null,
        "pivotColumns": null,
        "xColumns": null,
        "yColumns": null
       },
       "removedWidgets": [],
       "schema": [
        {
         "metadata": "{}",
         "name": "tip",
         "type": "\"double\""
        }
       ],
       "type": "table"
      }
     },
     "output_type": "display_data"
    },
    {
     "output_type": "display_data",
     "data": {
      "text/plain": [
       "Databricks visualization. Run in Databricks to view."
      ]
     },
     "metadata": {
      "application/vnd.databricks.v1.subcommand+json": {
       "baseErrorDetails": null,
       "bindings": {},
       "collapsed": false,
       "command": "%python\n__backend_agg_display_orig = display\n__backend_agg_dfs = []\ndef __backend_agg_display_new(df):\n    __backend_agg_df_modules = [\"pandas.core.frame\", \"databricks.koalas.frame\", \"pyspark.sql.dataframe\", \"pyspark.pandas.frame\", \"pyspark.sql.connect.dataframe\"]\n    if (type(df).__module__ in __backend_agg_df_modules and type(df).__name__ == 'DataFrame') or isinstance(df, list):\n        __backend_agg_dfs.append(df)\n\ndisplay = __backend_agg_display_new\n\ndef __backend_agg_user_code_fn():\n    import base64\n    exec(base64.standard_b64decode(\"ZGlzcGxheShkZi5zZWxlY3QoInRpcCIpKQo=\").decode())\n\ntry:\n    # run user code\n    __backend_agg_user_code_fn()\n\n    #reset display function\n    display = __backend_agg_display_orig\n\n    if len(__backend_agg_dfs) > 0:\n        # create a temp view\n        if type(__backend_agg_dfs[0]).__module__ == \"databricks.koalas.frame\":\n            # koalas dataframe\n            __backend_agg_dfs[0].to_spark().createOrReplaceTempView(\"DatabricksView1954c23\")\n        elif type(__backend_agg_dfs[0]).__module__ == \"pandas.core.frame\" or isinstance(__backend_agg_dfs[0], list):\n            # pandas dataframe\n            spark.createDataFrame(__backend_agg_dfs[0]).createOrReplaceTempView(\"DatabricksView1954c23\")\n        else:\n            __backend_agg_dfs[0].createOrReplaceTempView(\"DatabricksView1954c23\")\n        #run backend agg\n        display(spark.sql(\"\"\"WITH q AS (select * from DatabricksView1954c23) SELECT `tip`,`tip` FROM q\"\"\"))\n    else:\n        displayHTML(\"dataframe no longer exists. If you're using dataframe.display(), use display(dataframe) instead.\")\n\n\nfinally:\n    spark.sql(\"drop view if exists DatabricksView1954c23\")\n    display = __backend_agg_display_orig\n    del __backend_agg_display_new\n    del __backend_agg_display_orig\n    del __backend_agg_dfs\n    del __backend_agg_user_code_fn\n\n",
       "commandTitle": "Visualization 1",
       "commandType": "auto",
       "commandVersion": 0,
       "commentThread": [],
       "commentsVisible": false,
       "contentSha256Hex": null,
       "customPlotOptions": {
        "redashChart": [
         {
          "key": "type",
          "value": "CHART"
         },
         {
          "key": "options",
          "value": {
           "alignYAxesAtZero": true,
           "coefficient": 1,
           "columnConfigurationMap": {
            "y": [
             {
              "column": "tip",
              "id": "column_60f504f3110"
             }
            ]
           },
           "dateTimeFormat": "DD/MM/YYYY HH:mm",
           "direction": {
            "type": "counterclockwise"
           },
           "error_y": {
            "type": "data",
            "visible": true
           },
           "globalSeriesType": "box",
           "legend": {
            "traceorder": "normal"
           },
           "missingValuesAsZero": true,
           "numBins": 10,
           "numberFormat": "0,0.[00000]",
           "percentFormat": "0[.]00%",
           "series": {
            "error_y": {
             "type": "data",
             "visible": true
            },
            "stacking": null
           },
           "seriesOptions": {
            "tip": {
             "color": "#B554FF",
             "type": "box",
             "yAxis": 0
            }
           },
           "showDataLabels": false,
           "showpoints": true,
           "sizemode": "diameter",
           "sortX": true,
           "sortY": true,
           "swappedAxes": false,
           "textFormat": "",
           "useAggregationsUi": true,
           "valuesOptions": {},
           "version": 2,
           "xAxis": {
            "labels": {
             "enabled": true
            },
            "type": "-"
           },
           "yAxis": [
            {
             "type": "-"
            },
            {
             "opposite": true,
             "type": "-"
            }
           ]
          }
         }
        ]
       },
       "datasetPreviewNameToCmdIdMap": {},
       "diffDeletes": [],
       "diffInserts": [],
       "displayType": "redashChart",
       "error": null,
       "errorDetails": null,
       "errorSummary": null,
       "errorTraceType": null,
       "finishTime": 0,
       "globalVars": {},
       "guid": "",
       "height": "auto",
       "hideCommandCode": false,
       "hideCommandResult": false,
       "iPythonMetadata": null,
       "inputWidgets": {},
       "isLockedInExamMode": false,
       "latestUser": "a user",
       "latestUserId": null,
       "listResultMetadata": null,
       "metadata": {},
       "nuid": "14521c98-9d59-4cfb-af07-1d666820fb05",
       "origId": 0,
       "parentHierarchy": [],
       "pivotAggregation": null,
       "pivotColumns": null,
       "position": 3.49609375,
       "resultDbfsErrorMessage": null,
       "resultDbfsStatus": "INLINED_IN_TREE",
       "results": null,
       "showCommandTitle": false,
       "startTime": 0,
       "state": "input",
       "streamStates": {},
       "subcommandOptions": {
        "queryPlan": {
         "selects": [
          {
           "column": "tip",
           "type": "column"
          }
         ]
        }
       },
       "submitTime": 0,
       "subtype": "tableResultSubCmd.visualization",
       "tableResultIndex": 0,
       "tableResultSettingsMap": {},
       "useConsistentColors": false,
       "version": "CommandV1",
       "width": "auto",
       "workflows": [],
       "xColumns": null,
       "yColumns": null
      }
     },
     "output_type": "display_data"
    }
   ],
   "source": [
    "display(df.select(\"tip\"))\n"
   ]
  },
  {
   "cell_type": "markdown",
   "metadata": {
    "application/vnd.databricks.v1+cell": {
     "cellMetadata": {},
     "inputWidgets": {},
     "nuid": "f49dc7d5-c688-465f-a74c-8e5957c9e03b",
     "showTitle": false,
     "tableResultSettingsMap": {},
     "title": ""
    }
   },
   "source": [
    "Bar Chart: Average Tip by Categorical Variables"
   ]
  },
  {
   "cell_type": "code",
   "execution_count": 0,
   "metadata": {
    "application/vnd.databricks.v1+cell": {
     "cellMetadata": {
      "byteLimit": 2048000,
      "rowLimit": 10000
     },
     "inputWidgets": {},
     "nuid": "6710f2c9-ca06-480c-8b81-08326f5a6ee2",
     "showTitle": false,
     "tableResultSettingsMap": {},
     "title": ""
    }
   },
   "outputs": [
    {
     "output_type": "display_data",
     "data": {
      "text/html": [
       "<style scoped>\n",
       "  .table-result-container {\n",
       "    max-height: 300px;\n",
       "    overflow: auto;\n",
       "  }\n",
       "  table, th, td {\n",
       "    border: 1px solid black;\n",
       "    border-collapse: collapse;\n",
       "  }\n",
       "  th, td {\n",
       "    padding: 5px;\n",
       "  }\n",
       "  th {\n",
       "    text-align: left;\n",
       "  }\n",
       "</style><div class='table-result-container'><table class='table-result'><thead style='background-color: white'><tr><th>value</th><th>avg_tip</th><th>category</th></tr></thead><tbody><tr><td>female</td><td>2.9487499999999995</td><td>sex</td></tr><tr><td>male</td><td>2.9600000000000004</td><td>sex</td></tr><tr><td>no</td><td>2.9562499999999994</td><td>smoking</td></tr><tr><td>sunny</td><td>2.9562499999999994</td><td>day</td></tr><tr><td>dinner</td><td>2.9562499999999994</td><td>time</td></tr></tbody></table></div>"
      ]
     },
     "metadata": {
      "application/vnd.databricks.v1+output": {
       "addedWidgets": {},
       "aggData": [],
       "aggError": "",
       "aggOverflow": false,
       "aggSchema": [],
       "aggSeriesLimitReached": false,
       "aggType": "",
       "arguments": {},
       "columnCustomDisplayInfos": {},
       "data": [
        [
         "female",
         2.9487499999999995,
         "sex"
        ],
        [
         "male",
         2.9600000000000004,
         "sex"
        ],
        [
         "no",
         2.9562499999999994,
         "smoking"
        ],
        [
         "sunny",
         2.9562499999999994,
         "day"
        ],
        [
         "dinner",
         2.9562499999999994,
         "time"
        ]
       ],
       "datasetInfos": [],
       "dbfsResultPath": null,
       "isJsonSchema": true,
       "metadata": {},
       "overflow": false,
       "plotOptions": {
        "customPlotOptions": {},
        "displayType": "table",
        "pivotAggregation": null,
        "pivotColumns": null,
        "xColumns": null,
        "yColumns": null
       },
       "removedWidgets": [],
       "schema": [
        {
         "metadata": "{}",
         "name": "value",
         "type": "\"string\""
        },
        {
         "metadata": "{}",
         "name": "avg_tip",
         "type": "\"double\""
        },
        {
         "metadata": "{}",
         "name": "category",
         "type": "\"string\""
        }
       ],
       "type": "table"
      }
     },
     "output_type": "display_data"
    },
    {
     "output_type": "display_data",
     "data": {
      "text/plain": [
       "Databricks visualization. Run in Databricks to view."
      ]
     },
     "metadata": {
      "application/vnd.databricks.v1.subcommand+json": {
       "baseErrorDetails": null,
       "bindings": {},
       "collapsed": false,
       "command": "%python\n__backend_agg_display_orig = display\n__backend_agg_dfs = []\ndef __backend_agg_display_new(df):\n    __backend_agg_df_modules = [\"pandas.core.frame\", \"databricks.koalas.frame\", \"pyspark.sql.dataframe\", \"pyspark.pandas.frame\", \"pyspark.sql.connect.dataframe\"]\n    if (type(df).__module__ in __backend_agg_df_modules and type(df).__name__ == 'DataFrame') or isinstance(df, list):\n        __backend_agg_dfs.append(df)\n\ndisplay = __backend_agg_display_new\n\ndef __backend_agg_user_code_fn():\n    import base64\n    exec(base64.standard_b64decode(\"ZnJvbSBweXNwYXJrLnNxbC5mdW5jdGlvbnMgaW1wb3J0IGxpdCwgYXZnCgojIEF2ZXJhZ2UgdGlwIGJ5IHNleAphdmdfc2V4ID0gZGYuZ3JvdXBCeSgic2V4IikuYWdnKGF2ZygidGlwIikuYWxpYXMoImF2Z190aXAiKSkud2l0aENvbHVtbigiY2F0ZWdvcnkiLCBsaXQoInNleCIpKS53aXRoQ29sdW1uUmVuYW1lZCgic2V4IiwgInZhbHVlIikKCiMgQXZlcmFnZSB0aXAgYnkgc21va2luZwphdmdfc21va2luZyA9IGRmLmdyb3VwQnkoInNtb2tpbmciKS5hZ2coYXZnKCJ0aXAiKS5hbGlhcygiYXZnX3RpcCIpKS53aXRoQ29sdW1uKCJjYXRlZ29yeSIsIGxpdCgic21va2luZyIpKS53aXRoQ29sdW1uUmVuYW1lZCgic21va2luZyIsICJ2YWx1ZSIpCgojIEF2ZXJhZ2UgdGlwIGJ5IGRheQphdmdfZGF5ID0gZGYuZ3JvdXBCeSgiZGF5IikuYWdnKGF2ZygidGlwIikuYWxpYXMoImF2Z190aXAiKSkud2l0aENvbHVtbigiY2F0ZWdvcnkiLCBsaXQoImRheSIpKS53aXRoQ29sdW1uUmVuYW1lZCgiZGF5IiwgInZhbHVlIikKCiMgQXZlcmFnZSB0aXAgYnkgdGltZQphdmdfdGltZSA9IGRmLmdyb3VwQnkoInRpbWUiKS5hZ2coYXZnKCJ0aXAiKS5hbGlhcygiYXZnX3RpcCIpKS53aXRoQ29sdW1uKCJjYXRlZ29yeSIsIGxpdCgidGltZSIpKS53aXRoQ29sdW1uUmVuYW1lZCgidGltZSIsICJ2YWx1ZSIpCgojIENvbWJpbmUgYWxsIHJlc3VsdHMKY29tYmluZWRfYXZnID0gYXZnX3NleC51bmlvbihhdmdfc21va2luZykudW5pb24oYXZnX2RheSkudW5pb24oYXZnX3RpbWUpCgpkaXNwbGF5KGNvbWJpbmVkX2F2Zyk=\").decode())\n\ntry:\n    # run user code\n    __backend_agg_user_code_fn()\n\n    #reset display function\n    display = __backend_agg_display_orig\n\n    if len(__backend_agg_dfs) > 0:\n        # create a temp view\n        if type(__backend_agg_dfs[0]).__module__ == \"databricks.koalas.frame\":\n            # koalas dataframe\n            __backend_agg_dfs[0].to_spark().createOrReplaceTempView(\"DatabricksView42fec23\")\n        elif type(__backend_agg_dfs[0]).__module__ == \"pandas.core.frame\" or isinstance(__backend_agg_dfs[0], list):\n            # pandas dataframe\n            spark.createDataFrame(__backend_agg_dfs[0]).createOrReplaceTempView(\"DatabricksView42fec23\")\n        else:\n            __backend_agg_dfs[0].createOrReplaceTempView(\"DatabricksView42fec23\")\n        #run backend agg\n        display(spark.sql(\"\"\"WITH q AS (select * from DatabricksView42fec23) SELECT `value`,`category`,AVG(`avg_tip`) `column_60f504f3122` FROM q GROUP BY `category`,`value`\"\"\"))\n    else:\n        displayHTML(\"dataframe no longer exists. If you're using dataframe.display(), use display(dataframe) instead.\")\n\n\nfinally:\n    spark.sql(\"drop view if exists DatabricksView42fec23\")\n    display = __backend_agg_display_orig\n    del __backend_agg_display_new\n    del __backend_agg_display_orig\n    del __backend_agg_dfs\n    del __backend_agg_user_code_fn\n\n",
       "commandTitle": "Visualization 1",
       "commandType": "auto",
       "commandVersion": 0,
       "commentThread": [],
       "commentsVisible": false,
       "contentSha256Hex": null,
       "customPlotOptions": {
        "redashChart": [
         {
          "key": "type",
          "value": "CHART"
         },
         {
          "key": "options",
          "value": {
           "alignYAxesAtZero": true,
           "coefficient": 1,
           "columnConfigurationMap": {
            "series": {
             "column": "category",
             "id": "column_60f504f3121"
            },
            "x": {
             "column": "value",
             "id": "column_60f504f3127"
            },
            "y": [
             {
              "column": "avg_tip",
              "id": "column_60f504f3122",
              "transform": "AVG"
             }
            ]
           },
           "dateTimeFormat": "DD/MM/YYYY HH:mm",
           "direction": {
            "type": "counterclockwise"
           },
           "error_y": {
            "type": "data",
            "visible": true
           },
           "globalSeriesType": "column",
           "isAggregationOn": true,
           "legend": {
            "traceorder": "normal"
           },
           "missingValuesAsZero": true,
           "numberFormat": "0,0.[00000]",
           "percentFormat": "0[.]00%",
           "series": {
            "error_y": {
             "type": "data",
             "visible": true
            },
            "stacking": "stack"
           },
           "seriesOptions": {
            "column_60f504f3122": {
             "name": "avg_tip",
             "type": "column",
             "yAxis": 0
            },
            "day": {
             "color": "#B554FF"
            }
           },
           "showDataLabels": true,
           "sizemode": "diameter",
           "sortX": true,
           "sortY": true,
           "swappedAxes": true,
           "textFormat": "",
           "useAggregationsUi": true,
           "valuesOptions": {},
           "version": 2,
           "xAxis": {
            "labels": {
             "enabled": true
            },
            "type": "-"
           },
           "yAxis": [
            {
             "type": "-"
            },
            {
             "opposite": true,
             "type": "-"
            }
           ]
          }
         }
        ]
       },
       "datasetPreviewNameToCmdIdMap": {},
       "diffDeletes": [],
       "diffInserts": [],
       "displayType": "redashChart",
       "error": null,
       "errorDetails": null,
       "errorSummary": null,
       "errorTraceType": null,
       "finishTime": 0,
       "globalVars": {},
       "guid": "",
       "height": "auto",
       "hideCommandCode": false,
       "hideCommandResult": false,
       "iPythonMetadata": null,
       "inputWidgets": {},
       "isLockedInExamMode": false,
       "latestUser": "a user",
       "latestUserId": null,
       "listResultMetadata": null,
       "metadata": {},
       "nuid": "6b5ff65c-7728-4ce5-ba93-b9a94d5e0617",
       "origId": 0,
       "parentHierarchy": [],
       "pivotAggregation": null,
       "pivotColumns": null,
       "position": 3.4990234375,
       "resultDbfsErrorMessage": null,
       "resultDbfsStatus": "INLINED_IN_TREE",
       "results": null,
       "showCommandTitle": false,
       "startTime": 0,
       "state": "input",
       "streamStates": {},
       "subcommandOptions": {
        "queryPlan": {
         "groups": [
          {
           "column": "value",
           "type": "column"
          },
          {
           "column": "category",
           "type": "column"
          }
         ],
         "selects": [
          {
           "column": "value",
           "type": "column"
          },
          {
           "column": "category",
           "type": "column"
          },
          {
           "alias": "column_60f504f3122",
           "args": [
            {
             "column": "avg_tip",
             "type": "column"
            }
           ],
           "function": "AVG",
           "type": "function"
          }
         ]
        }
       },
       "submitTime": 0,
       "subtype": "tableResultSubCmd.visualization",
       "tableResultIndex": 0,
       "tableResultSettingsMap": {},
       "useConsistentColors": false,
       "version": "CommandV1",
       "width": "auto",
       "workflows": [],
       "xColumns": null,
       "yColumns": null
      }
     },
     "output_type": "display_data"
    }
   ],
   "source": [
    "from pyspark.sql.functions import lit, avg\n",
    "\n",
    "# Average tip by sex\n",
    "avg_sex = df.groupBy(\"sex\").agg(avg(\"tip\").alias(\"avg_tip\")).withColumn(\"category\", lit(\"sex\")).withColumnRenamed(\"sex\", \"value\")\n",
    "\n",
    "# Average tip by smoking\n",
    "avg_smoking = df.groupBy(\"smoking\").agg(avg(\"tip\").alias(\"avg_tip\")).withColumn(\"category\", lit(\"smoking\")).withColumnRenamed(\"smoking\", \"value\")\n",
    "\n",
    "# Average tip by day\n",
    "avg_day = df.groupBy(\"day\").agg(avg(\"tip\").alias(\"avg_tip\")).withColumn(\"category\", lit(\"day\")).withColumnRenamed(\"day\", \"value\")\n",
    "\n",
    "# Average tip by time\n",
    "avg_time = df.groupBy(\"time\").agg(avg(\"tip\").alias(\"avg_tip\")).withColumn(\"category\", lit(\"time\")).withColumnRenamed(\"time\", \"value\")\n",
    "\n",
    "# Combine all results\n",
    "combined_avg = avg_sex.union(avg_smoking).union(avg_day).union(avg_time)\n",
    "\n",
    "display(combined_avg)"
   ]
  },
  {
   "cell_type": "markdown",
   "metadata": {
    "application/vnd.databricks.v1+cell": {
     "cellMetadata": {},
     "inputWidgets": {},
     "nuid": "1349de8f-1d78-4bce-97f9-09ab7872c2ff",
     "showTitle": false,
     "tableResultSettingsMap": {},
     "title": ""
    }
   },
   "source": [
    "converting category string to "
   ]
  },
  {
   "cell_type": "code",
   "execution_count": 0,
   "metadata": {
    "application/vnd.databricks.v1+cell": {
     "cellMetadata": {
      "byteLimit": 2048000,
      "rowLimit": 10000
     },
     "inputWidgets": {},
     "nuid": "05dfa827-6c78-41e2-a66e-04d2f24d5ea6",
     "showTitle": false,
     "tableResultSettingsMap": {},
     "title": ""
    }
   },
   "outputs": [],
   "source": [
    "from pyspark.ml.feature import StringIndexer"
   ]
  },
  {
   "cell_type": "code",
   "execution_count": 0,
   "metadata": {
    "application/vnd.databricks.v1+cell": {
     "cellMetadata": {
      "byteLimit": 2048000,
      "rowLimit": 10000
     },
     "inputWidgets": {},
     "nuid": "6b207625-bdc9-499e-bd02-a9f6b5188e10",
     "showTitle": false,
     "tableResultSettingsMap": {},
     "title": ""
    }
   },
   "outputs": [
    {
     "output_type": "display_data",
     "data": {
      "text/html": [
       "<style scoped>\n",
       "  .table-result-container {\n",
       "    max-height: 300px;\n",
       "    overflow: auto;\n",
       "  }\n",
       "  table, th, td {\n",
       "    border: 1px solid black;\n",
       "    border-collapse: collapse;\n",
       "  }\n",
       "  th, td {\n",
       "    padding: 5px;\n",
       "  }\n",
       "  th {\n",
       "    text-align: left;\n",
       "  }\n",
       "</style><div class='table-result-container'><table class='table-result'><thead style='background-color: white'><tr><th>total_bills</th><th>tip</th><th>sex</th><th>smoking</th><th>day</th><th>time</th><th>size</th><th>index_sex</th></tr></thead><tbody><tr><td>21.12</td><td>2.1</td><td>male</td><td>no</td><td>sunny</td><td>dinner</td><td>2</td><td>0.0</td></tr><tr><td>32.17</td><td>1.2</td><td>male</td><td>no</td><td>sunny</td><td>dinner</td><td>1</td><td>0.0</td></tr><tr><td>19.98</td><td>3.1</td><td>male</td><td>no</td><td>sunny</td><td>dinner</td><td>3</td><td>0.0</td></tr><tr><td>12.49</td><td>2.16</td><td>female</td><td>no</td><td>sunny</td><td>dinner</td><td>3</td><td>1.0</td></tr><tr><td>18.57</td><td>2.43</td><td>female</td><td>no</td><td>sunny</td><td>dinner</td><td>2</td><td>1.0</td></tr><tr><td>24.25</td><td>1.56</td><td>male</td><td>no</td><td>sunny</td><td>dinner</td><td>2</td><td>0.0</td></tr><tr><td>36.1</td><td>3.11</td><td>female</td><td>no</td><td>sunny</td><td>dinner</td><td>1</td><td>1.0</td></tr><tr><td>27.34</td><td>2.31</td><td>female</td><td>no</td><td>sunny</td><td>dinner</td><td>1</td><td>1.0</td></tr><tr><td>13.89</td><td>2.67</td><td>male</td><td>no</td><td>sunny</td><td>dinner</td><td>2</td><td>0.0</td></tr><tr><td>18.89</td><td>4.32</td><td>male</td><td>no</td><td>sunny</td><td>dinner</td><td>1</td><td>0.0</td></tr><tr><td>25.12</td><td>1.48</td><td>male</td><td>no</td><td>sunny</td><td>dinner</td><td>3</td><td>0.0</td></tr><tr><td>14.84</td><td>2.78</td><td>male</td><td>no</td><td>sunny</td><td>dinner</td><td>2</td><td>0.0</td></tr><tr><td>16.89</td><td>3.12</td><td>male</td><td>no</td><td>sunny</td><td>dinner</td><td>1</td><td>0.0</td></tr><tr><td>21.87</td><td>3.69</td><td>female</td><td>no</td><td>sunny</td><td>dinner</td><td>1</td><td>1.0</td></tr><tr><td>32.21</td><td>2.41</td><td>female</td><td>no</td><td>sunny</td><td>dinner</td><td>2</td><td>1.0</td></tr><tr><td>29.1</td><td>4.51</td><td>male</td><td>no</td><td>sunny</td><td>dinner</td><td>2</td><td>0.0</td></tr><tr><td>28.45</td><td>2.38</td><td>female</td><td>no</td><td>sunny</td><td>dinner</td><td>2</td><td>1.0</td></tr><tr><td>16.76</td><td>1.69</td><td>male</td><td>no</td><td>sunny</td><td>dinner</td><td>3</td><td>0.0</td></tr><tr><td>14.35</td><td>5.1</td><td>female</td><td>no</td><td>sunny</td><td>dinner</td><td>3</td><td>1.0</td></tr><tr><td>23.13</td><td>4.59</td><td>male</td><td>no</td><td>sunny</td><td>dinner</td><td>2</td><td>0.0</td></tr><tr><td>19.9</td><td>4.21</td><td>male</td><td>no</td><td>sunny</td><td>dinner</td><td>3</td><td>0.0</td></tr><tr><td>18.98</td><td>3.42</td><td>male</td><td>no</td><td>sunny</td><td>dinner</td><td>3</td><td>0.0</td></tr><tr><td>21.43</td><td>2.83</td><td>male</td><td>no</td><td>sunny</td><td>dinner</td><td>2</td><td>0.0</td></tr><tr><td>33.23</td><td>3.78</td><td>male</td><td>no</td><td>sunny</td><td>dinner</td><td>2</td><td>0.0</td></tr></tbody></table></div>"
      ]
     },
     "metadata": {
      "application/vnd.databricks.v1+output": {
       "addedWidgets": {},
       "aggData": [],
       "aggError": "",
       "aggOverflow": false,
       "aggSchema": [],
       "aggSeriesLimitReached": false,
       "aggType": "",
       "arguments": {},
       "columnCustomDisplayInfos": {},
       "data": [
        [
         21.12,
         2.1,
         "male",
         "no",
         "sunny",
         "dinner",
         2,
         0.0
        ],
        [
         32.17,
         1.2,
         "male",
         "no",
         "sunny",
         "dinner",
         1,
         0.0
        ],
        [
         19.98,
         3.1,
         "male",
         "no",
         "sunny",
         "dinner",
         3,
         0.0
        ],
        [
         12.49,
         2.16,
         "female",
         "no",
         "sunny",
         "dinner",
         3,
         1.0
        ],
        [
         18.57,
         2.43,
         "female",
         "no",
         "sunny",
         "dinner",
         2,
         1.0
        ],
        [
         24.25,
         1.56,
         "male",
         "no",
         "sunny",
         "dinner",
         2,
         0.0
        ],
        [
         36.1,
         3.11,
         "female",
         "no",
         "sunny",
         "dinner",
         1,
         1.0
        ],
        [
         27.34,
         2.31,
         "female",
         "no",
         "sunny",
         "dinner",
         1,
         1.0
        ],
        [
         13.89,
         2.67,
         "male",
         "no",
         "sunny",
         "dinner",
         2,
         0.0
        ],
        [
         18.89,
         4.32,
         "male",
         "no",
         "sunny",
         "dinner",
         1,
         0.0
        ],
        [
         25.12,
         1.48,
         "male",
         "no",
         "sunny",
         "dinner",
         3,
         0.0
        ],
        [
         14.84,
         2.78,
         "male",
         "no",
         "sunny",
         "dinner",
         2,
         0.0
        ],
        [
         16.89,
         3.12,
         "male",
         "no",
         "sunny",
         "dinner",
         1,
         0.0
        ],
        [
         21.87,
         3.69,
         "female",
         "no",
         "sunny",
         "dinner",
         1,
         1.0
        ],
        [
         32.21,
         2.41,
         "female",
         "no",
         "sunny",
         "dinner",
         2,
         1.0
        ],
        [
         29.1,
         4.51,
         "male",
         "no",
         "sunny",
         "dinner",
         2,
         0.0
        ],
        [
         28.45,
         2.38,
         "female",
         "no",
         "sunny",
         "dinner",
         2,
         1.0
        ],
        [
         16.76,
         1.69,
         "male",
         "no",
         "sunny",
         "dinner",
         3,
         0.0
        ],
        [
         14.35,
         5.1,
         "female",
         "no",
         "sunny",
         "dinner",
         3,
         1.0
        ],
        [
         23.13,
         4.59,
         "male",
         "no",
         "sunny",
         "dinner",
         2,
         0.0
        ],
        [
         19.9,
         4.21,
         "male",
         "no",
         "sunny",
         "dinner",
         3,
         0.0
        ],
        [
         18.98,
         3.42,
         "male",
         "no",
         "sunny",
         "dinner",
         3,
         0.0
        ],
        [
         21.43,
         2.83,
         "male",
         "no",
         "sunny",
         "dinner",
         2,
         0.0
        ],
        [
         33.23,
         3.78,
         "male",
         "no",
         "sunny",
         "dinner",
         2,
         0.0
        ]
       ],
       "datasetInfos": [],
       "dbfsResultPath": null,
       "isJsonSchema": true,
       "metadata": {},
       "overflow": false,
       "plotOptions": {
        "customPlotOptions": {},
        "displayType": "table",
        "pivotAggregation": null,
        "pivotColumns": null,
        "xColumns": null,
        "yColumns": null
       },
       "removedWidgets": [],
       "schema": [
        {
         "metadata": "{}",
         "name": "total_bills",
         "type": "\"double\""
        },
        {
         "metadata": "{}",
         "name": "tip",
         "type": "\"double\""
        },
        {
         "metadata": "{}",
         "name": "sex",
         "type": "\"string\""
        },
        {
         "metadata": "{}",
         "name": "smoking",
         "type": "\"string\""
        },
        {
         "metadata": "{}",
         "name": "day",
         "type": "\"string\""
        },
        {
         "metadata": "{}",
         "name": "time",
         "type": "\"string\""
        },
        {
         "metadata": "{}",
         "name": "size",
         "type": "\"integer\""
        },
        {
         "metadata": "{\"ml_attr\":{\"vals\":[\"male\",\"female\"],\"type\":\"nominal\",\"name\":\"index_sex\"}}",
         "name": "index_sex",
         "type": "\"double\""
        }
       ],
       "type": "table"
      }
     },
     "output_type": "display_data"
    }
   ],
   "source": [
    "# note inputcol and outputcol for converting single column\n",
    "\n",
    "index = StringIndexer(inputCol='sex', outputCol='index_sex')\n",
    "index_df = index.fit(df).transform(df)\n",
    "index_df.display()"
   ]
  },
  {
   "cell_type": "code",
   "execution_count": 0,
   "metadata": {
    "application/vnd.databricks.v1+cell": {
     "cellMetadata": {
      "byteLimit": 2048000,
      "rowLimit": 10000
     },
     "inputWidgets": {},
     "nuid": "b40053f6-a7aa-4581-9496-a7f1e97e2af4",
     "showTitle": false,
     "tableResultSettingsMap": {},
     "title": ""
    }
   },
   "outputs": [],
   "source": [
    "# note inputcols and outputcols for converting multiple column\n",
    "index = StringIndexer(inputCols=['smoking', 'day', 'time'], outputCols=['index_smoking', 'index_day', 'index_time'])\n",
    "index_df = index.fit(index_df).transform(index_df)"
   ]
  },
  {
   "cell_type": "code",
   "execution_count": 0,
   "metadata": {
    "application/vnd.databricks.v1+cell": {
     "cellMetadata": {
      "byteLimit": 2048000,
      "rowLimit": 10000
     },
     "inputWidgets": {},
     "nuid": "ac25063e-431e-42bf-8d7c-9287deca4f14",
     "showTitle": false,
     "tableResultSettingsMap": {},
     "title": ""
    }
   },
   "outputs": [
    {
     "output_type": "display_data",
     "data": {
      "text/html": [
       "<style scoped>\n",
       "  .table-result-container {\n",
       "    max-height: 300px;\n",
       "    overflow: auto;\n",
       "  }\n",
       "  table, th, td {\n",
       "    border: 1px solid black;\n",
       "    border-collapse: collapse;\n",
       "  }\n",
       "  th, td {\n",
       "    padding: 5px;\n",
       "  }\n",
       "  th {\n",
       "    text-align: left;\n",
       "  }\n",
       "</style><div class='table-result-container'><table class='table-result'><thead style='background-color: white'><tr><th>total_bills</th><th>tip</th><th>sex</th><th>smoking</th><th>day</th><th>time</th><th>size</th><th>index_sex</th><th>index_smoking</th><th>index_day</th><th>index_time</th></tr></thead><tbody><tr><td>21.12</td><td>2.1</td><td>male</td><td>no</td><td>sunny</td><td>dinner</td><td>2</td><td>0.0</td><td>0.0</td><td>0.0</td><td>0.0</td></tr><tr><td>32.17</td><td>1.2</td><td>male</td><td>no</td><td>sunny</td><td>dinner</td><td>1</td><td>0.0</td><td>0.0</td><td>0.0</td><td>0.0</td></tr><tr><td>19.98</td><td>3.1</td><td>male</td><td>no</td><td>sunny</td><td>dinner</td><td>3</td><td>0.0</td><td>0.0</td><td>0.0</td><td>0.0</td></tr><tr><td>12.49</td><td>2.16</td><td>female</td><td>no</td><td>sunny</td><td>dinner</td><td>3</td><td>1.0</td><td>0.0</td><td>0.0</td><td>0.0</td></tr><tr><td>18.57</td><td>2.43</td><td>female</td><td>no</td><td>sunny</td><td>dinner</td><td>2</td><td>1.0</td><td>0.0</td><td>0.0</td><td>0.0</td></tr><tr><td>24.25</td><td>1.56</td><td>male</td><td>no</td><td>sunny</td><td>dinner</td><td>2</td><td>0.0</td><td>0.0</td><td>0.0</td><td>0.0</td></tr><tr><td>36.1</td><td>3.11</td><td>female</td><td>no</td><td>sunny</td><td>dinner</td><td>1</td><td>1.0</td><td>0.0</td><td>0.0</td><td>0.0</td></tr><tr><td>27.34</td><td>2.31</td><td>female</td><td>no</td><td>sunny</td><td>dinner</td><td>1</td><td>1.0</td><td>0.0</td><td>0.0</td><td>0.0</td></tr><tr><td>13.89</td><td>2.67</td><td>male</td><td>no</td><td>sunny</td><td>dinner</td><td>2</td><td>0.0</td><td>0.0</td><td>0.0</td><td>0.0</td></tr><tr><td>18.89</td><td>4.32</td><td>male</td><td>no</td><td>sunny</td><td>dinner</td><td>1</td><td>0.0</td><td>0.0</td><td>0.0</td><td>0.0</td></tr><tr><td>25.12</td><td>1.48</td><td>male</td><td>no</td><td>sunny</td><td>dinner</td><td>3</td><td>0.0</td><td>0.0</td><td>0.0</td><td>0.0</td></tr><tr><td>14.84</td><td>2.78</td><td>male</td><td>no</td><td>sunny</td><td>dinner</td><td>2</td><td>0.0</td><td>0.0</td><td>0.0</td><td>0.0</td></tr><tr><td>16.89</td><td>3.12</td><td>male</td><td>no</td><td>sunny</td><td>dinner</td><td>1</td><td>0.0</td><td>0.0</td><td>0.0</td><td>0.0</td></tr><tr><td>21.87</td><td>3.69</td><td>female</td><td>no</td><td>sunny</td><td>dinner</td><td>1</td><td>1.0</td><td>0.0</td><td>0.0</td><td>0.0</td></tr><tr><td>32.21</td><td>2.41</td><td>female</td><td>no</td><td>sunny</td><td>dinner</td><td>2</td><td>1.0</td><td>0.0</td><td>0.0</td><td>0.0</td></tr><tr><td>29.1</td><td>4.51</td><td>male</td><td>no</td><td>sunny</td><td>dinner</td><td>2</td><td>0.0</td><td>0.0</td><td>0.0</td><td>0.0</td></tr><tr><td>28.45</td><td>2.38</td><td>female</td><td>no</td><td>sunny</td><td>dinner</td><td>2</td><td>1.0</td><td>0.0</td><td>0.0</td><td>0.0</td></tr><tr><td>16.76</td><td>1.69</td><td>male</td><td>no</td><td>sunny</td><td>dinner</td><td>3</td><td>0.0</td><td>0.0</td><td>0.0</td><td>0.0</td></tr><tr><td>14.35</td><td>5.1</td><td>female</td><td>no</td><td>sunny</td><td>dinner</td><td>3</td><td>1.0</td><td>0.0</td><td>0.0</td><td>0.0</td></tr><tr><td>23.13</td><td>4.59</td><td>male</td><td>no</td><td>sunny</td><td>dinner</td><td>2</td><td>0.0</td><td>0.0</td><td>0.0</td><td>0.0</td></tr><tr><td>19.9</td><td>4.21</td><td>male</td><td>no</td><td>sunny</td><td>dinner</td><td>3</td><td>0.0</td><td>0.0</td><td>0.0</td><td>0.0</td></tr><tr><td>18.98</td><td>3.42</td><td>male</td><td>no</td><td>sunny</td><td>dinner</td><td>3</td><td>0.0</td><td>0.0</td><td>0.0</td><td>0.0</td></tr><tr><td>21.43</td><td>2.83</td><td>male</td><td>no</td><td>sunny</td><td>dinner</td><td>2</td><td>0.0</td><td>0.0</td><td>0.0</td><td>0.0</td></tr><tr><td>33.23</td><td>3.78</td><td>male</td><td>no</td><td>sunny</td><td>dinner</td><td>2</td><td>0.0</td><td>0.0</td><td>0.0</td><td>0.0</td></tr></tbody></table></div>"
      ]
     },
     "metadata": {
      "application/vnd.databricks.v1+output": {
       "addedWidgets": {},
       "aggData": [],
       "aggError": "",
       "aggOverflow": false,
       "aggSchema": [],
       "aggSeriesLimitReached": false,
       "aggType": "",
       "arguments": {},
       "columnCustomDisplayInfos": {},
       "data": [
        [
         21.12,
         2.1,
         "male",
         "no",
         "sunny",
         "dinner",
         2,
         0.0,
         0.0,
         0.0,
         0.0
        ],
        [
         32.17,
         1.2,
         "male",
         "no",
         "sunny",
         "dinner",
         1,
         0.0,
         0.0,
         0.0,
         0.0
        ],
        [
         19.98,
         3.1,
         "male",
         "no",
         "sunny",
         "dinner",
         3,
         0.0,
         0.0,
         0.0,
         0.0
        ],
        [
         12.49,
         2.16,
         "female",
         "no",
         "sunny",
         "dinner",
         3,
         1.0,
         0.0,
         0.0,
         0.0
        ],
        [
         18.57,
         2.43,
         "female",
         "no",
         "sunny",
         "dinner",
         2,
         1.0,
         0.0,
         0.0,
         0.0
        ],
        [
         24.25,
         1.56,
         "male",
         "no",
         "sunny",
         "dinner",
         2,
         0.0,
         0.0,
         0.0,
         0.0
        ],
        [
         36.1,
         3.11,
         "female",
         "no",
         "sunny",
         "dinner",
         1,
         1.0,
         0.0,
         0.0,
         0.0
        ],
        [
         27.34,
         2.31,
         "female",
         "no",
         "sunny",
         "dinner",
         1,
         1.0,
         0.0,
         0.0,
         0.0
        ],
        [
         13.89,
         2.67,
         "male",
         "no",
         "sunny",
         "dinner",
         2,
         0.0,
         0.0,
         0.0,
         0.0
        ],
        [
         18.89,
         4.32,
         "male",
         "no",
         "sunny",
         "dinner",
         1,
         0.0,
         0.0,
         0.0,
         0.0
        ],
        [
         25.12,
         1.48,
         "male",
         "no",
         "sunny",
         "dinner",
         3,
         0.0,
         0.0,
         0.0,
         0.0
        ],
        [
         14.84,
         2.78,
         "male",
         "no",
         "sunny",
         "dinner",
         2,
         0.0,
         0.0,
         0.0,
         0.0
        ],
        [
         16.89,
         3.12,
         "male",
         "no",
         "sunny",
         "dinner",
         1,
         0.0,
         0.0,
         0.0,
         0.0
        ],
        [
         21.87,
         3.69,
         "female",
         "no",
         "sunny",
         "dinner",
         1,
         1.0,
         0.0,
         0.0,
         0.0
        ],
        [
         32.21,
         2.41,
         "female",
         "no",
         "sunny",
         "dinner",
         2,
         1.0,
         0.0,
         0.0,
         0.0
        ],
        [
         29.1,
         4.51,
         "male",
         "no",
         "sunny",
         "dinner",
         2,
         0.0,
         0.0,
         0.0,
         0.0
        ],
        [
         28.45,
         2.38,
         "female",
         "no",
         "sunny",
         "dinner",
         2,
         1.0,
         0.0,
         0.0,
         0.0
        ],
        [
         16.76,
         1.69,
         "male",
         "no",
         "sunny",
         "dinner",
         3,
         0.0,
         0.0,
         0.0,
         0.0
        ],
        [
         14.35,
         5.1,
         "female",
         "no",
         "sunny",
         "dinner",
         3,
         1.0,
         0.0,
         0.0,
         0.0
        ],
        [
         23.13,
         4.59,
         "male",
         "no",
         "sunny",
         "dinner",
         2,
         0.0,
         0.0,
         0.0,
         0.0
        ],
        [
         19.9,
         4.21,
         "male",
         "no",
         "sunny",
         "dinner",
         3,
         0.0,
         0.0,
         0.0,
         0.0
        ],
        [
         18.98,
         3.42,
         "male",
         "no",
         "sunny",
         "dinner",
         3,
         0.0,
         0.0,
         0.0,
         0.0
        ],
        [
         21.43,
         2.83,
         "male",
         "no",
         "sunny",
         "dinner",
         2,
         0.0,
         0.0,
         0.0,
         0.0
        ],
        [
         33.23,
         3.78,
         "male",
         "no",
         "sunny",
         "dinner",
         2,
         0.0,
         0.0,
         0.0,
         0.0
        ]
       ],
       "datasetInfos": [],
       "dbfsResultPath": null,
       "isJsonSchema": true,
       "metadata": {},
       "overflow": false,
       "plotOptions": {
        "customPlotOptions": {},
        "displayType": "table",
        "pivotAggregation": null,
        "pivotColumns": null,
        "xColumns": null,
        "yColumns": null
       },
       "removedWidgets": [],
       "schema": [
        {
         "metadata": "{}",
         "name": "total_bills",
         "type": "\"double\""
        },
        {
         "metadata": "{}",
         "name": "tip",
         "type": "\"double\""
        },
        {
         "metadata": "{}",
         "name": "sex",
         "type": "\"string\""
        },
        {
         "metadata": "{}",
         "name": "smoking",
         "type": "\"string\""
        },
        {
         "metadata": "{}",
         "name": "day",
         "type": "\"string\""
        },
        {
         "metadata": "{}",
         "name": "time",
         "type": "\"string\""
        },
        {
         "metadata": "{}",
         "name": "size",
         "type": "\"integer\""
        },
        {
         "metadata": "{\"ml_attr\":{\"vals\":[\"male\",\"female\"],\"type\":\"nominal\",\"name\":\"index_sex\"}}",
         "name": "index_sex",
         "type": "\"double\""
        },
        {
         "metadata": "{\"ml_attr\":{\"vals\":[\"no\"],\"type\":\"nominal\",\"name\":\"index_smoking\"}}",
         "name": "index_smoking",
         "type": "\"double\""
        },
        {
         "metadata": "{\"ml_attr\":{\"vals\":[\"sunny\"],\"type\":\"nominal\",\"name\":\"index_day\"}}",
         "name": "index_day",
         "type": "\"double\""
        },
        {
         "metadata": "{\"ml_attr\":{\"vals\":[\"dinner\"],\"type\":\"nominal\",\"name\":\"index_time\"}}",
         "name": "index_time",
         "type": "\"double\""
        }
       ],
       "type": "table"
      }
     },
     "output_type": "display_data"
    }
   ],
   "source": [
    "index_df.display()"
   ]
  },
  {
   "cell_type": "markdown",
   "metadata": {
    "application/vnd.databricks.v1+cell": {
     "cellMetadata": {},
     "inputWidgets": {},
     "nuid": "6e6b8cb5-8118-44d4-ac30-57c37305ec2b",
     "showTitle": false,
     "tableResultSettingsMap": {},
     "title": ""
    }
   },
   "source": [
    "pick up columns interested to work on"
   ]
  },
  {
   "cell_type": "code",
   "execution_count": 0,
   "metadata": {
    "application/vnd.databricks.v1+cell": {
     "cellMetadata": {
      "byteLimit": 2048000,
      "rowLimit": 10000
     },
     "inputWidgets": {},
     "nuid": "600d4745-0f77-403a-853e-4a4c13785ba4",
     "showTitle": false,
     "tableResultSettingsMap": {},
     "title": ""
    }
   },
   "outputs": [
    {
     "output_type": "stream",
     "name": "stdout",
     "output_type": "stream",
     "text": [
      "root\n |-- total_bills: double (nullable = true)\n |-- tip: double (nullable = true)\n |-- sex: string (nullable = true)\n |-- smoking: string (nullable = true)\n |-- day: string (nullable = true)\n |-- time: string (nullable = true)\n |-- size: integer (nullable = true)\n |-- index_sex: double (nullable = false)\n |-- index_smoking: double (nullable = false)\n |-- index_day: double (nullable = false)\n |-- index_time: double (nullable = false)\n\n"
     ]
    }
   ],
   "source": [
    "index_df.printSchema()"
   ]
  },
  {
   "cell_type": "code",
   "execution_count": 0,
   "metadata": {
    "application/vnd.databricks.v1+cell": {
     "cellMetadata": {
      "byteLimit": 2048000,
      "rowLimit": 10000
     },
     "inputWidgets": {},
     "nuid": "c36e3594-167a-4ad9-ba52-3cdb4ed07d91",
     "showTitle": false,
     "tableResultSettingsMap": {},
     "title": ""
    }
   },
   "outputs": [
    {
     "output_type": "display_data",
     "data": {
      "text/html": [
       "<style scoped>\n",
       "  .table-result-container {\n",
       "    max-height: 300px;\n",
       "    overflow: auto;\n",
       "  }\n",
       "  table, th, td {\n",
       "    border: 1px solid black;\n",
       "    border-collapse: collapse;\n",
       "  }\n",
       "  th, td {\n",
       "    padding: 5px;\n",
       "  }\n",
       "  th {\n",
       "    text-align: left;\n",
       "  }\n",
       "</style><div class='table-result-container'><table class='table-result'><thead style='background-color: white'><tr><th>total_bills</th><th>tip</th><th>size</th><th>index_sex</th><th>index_smoking</th><th>index_day</th><th>index_time</th></tr></thead><tbody><tr><td>21.12</td><td>2.1</td><td>2</td><td>0.0</td><td>0.0</td><td>0.0</td><td>0.0</td></tr><tr><td>32.17</td><td>1.2</td><td>1</td><td>0.0</td><td>0.0</td><td>0.0</td><td>0.0</td></tr><tr><td>19.98</td><td>3.1</td><td>3</td><td>0.0</td><td>0.0</td><td>0.0</td><td>0.0</td></tr><tr><td>12.49</td><td>2.16</td><td>3</td><td>1.0</td><td>0.0</td><td>0.0</td><td>0.0</td></tr><tr><td>18.57</td><td>2.43</td><td>2</td><td>1.0</td><td>0.0</td><td>0.0</td><td>0.0</td></tr><tr><td>24.25</td><td>1.56</td><td>2</td><td>0.0</td><td>0.0</td><td>0.0</td><td>0.0</td></tr><tr><td>36.1</td><td>3.11</td><td>1</td><td>1.0</td><td>0.0</td><td>0.0</td><td>0.0</td></tr><tr><td>27.34</td><td>2.31</td><td>1</td><td>1.0</td><td>0.0</td><td>0.0</td><td>0.0</td></tr><tr><td>13.89</td><td>2.67</td><td>2</td><td>0.0</td><td>0.0</td><td>0.0</td><td>0.0</td></tr><tr><td>18.89</td><td>4.32</td><td>1</td><td>0.0</td><td>0.0</td><td>0.0</td><td>0.0</td></tr><tr><td>25.12</td><td>1.48</td><td>3</td><td>0.0</td><td>0.0</td><td>0.0</td><td>0.0</td></tr><tr><td>14.84</td><td>2.78</td><td>2</td><td>0.0</td><td>0.0</td><td>0.0</td><td>0.0</td></tr><tr><td>16.89</td><td>3.12</td><td>1</td><td>0.0</td><td>0.0</td><td>0.0</td><td>0.0</td></tr><tr><td>21.87</td><td>3.69</td><td>1</td><td>1.0</td><td>0.0</td><td>0.0</td><td>0.0</td></tr><tr><td>32.21</td><td>2.41</td><td>2</td><td>1.0</td><td>0.0</td><td>0.0</td><td>0.0</td></tr><tr><td>29.1</td><td>4.51</td><td>2</td><td>0.0</td><td>0.0</td><td>0.0</td><td>0.0</td></tr><tr><td>28.45</td><td>2.38</td><td>2</td><td>1.0</td><td>0.0</td><td>0.0</td><td>0.0</td></tr><tr><td>16.76</td><td>1.69</td><td>3</td><td>0.0</td><td>0.0</td><td>0.0</td><td>0.0</td></tr><tr><td>14.35</td><td>5.1</td><td>3</td><td>1.0</td><td>0.0</td><td>0.0</td><td>0.0</td></tr><tr><td>23.13</td><td>4.59</td><td>2</td><td>0.0</td><td>0.0</td><td>0.0</td><td>0.0</td></tr><tr><td>19.9</td><td>4.21</td><td>3</td><td>0.0</td><td>0.0</td><td>0.0</td><td>0.0</td></tr><tr><td>18.98</td><td>3.42</td><td>3</td><td>0.0</td><td>0.0</td><td>0.0</td><td>0.0</td></tr><tr><td>21.43</td><td>2.83</td><td>2</td><td>0.0</td><td>0.0</td><td>0.0</td><td>0.0</td></tr><tr><td>33.23</td><td>3.78</td><td>2</td><td>0.0</td><td>0.0</td><td>0.0</td><td>0.0</td></tr></tbody></table></div>"
      ]
     },
     "metadata": {
      "application/vnd.databricks.v1+output": {
       "addedWidgets": {},
       "aggData": [],
       "aggError": "",
       "aggOverflow": false,
       "aggSchema": [],
       "aggSeriesLimitReached": false,
       "aggType": "",
       "arguments": {},
       "columnCustomDisplayInfos": {},
       "data": [
        [
         21.12,
         2.1,
         2,
         0.0,
         0.0,
         0.0,
         0.0
        ],
        [
         32.17,
         1.2,
         1,
         0.0,
         0.0,
         0.0,
         0.0
        ],
        [
         19.98,
         3.1,
         3,
         0.0,
         0.0,
         0.0,
         0.0
        ],
        [
         12.49,
         2.16,
         3,
         1.0,
         0.0,
         0.0,
         0.0
        ],
        [
         18.57,
         2.43,
         2,
         1.0,
         0.0,
         0.0,
         0.0
        ],
        [
         24.25,
         1.56,
         2,
         0.0,
         0.0,
         0.0,
         0.0
        ],
        [
         36.1,
         3.11,
         1,
         1.0,
         0.0,
         0.0,
         0.0
        ],
        [
         27.34,
         2.31,
         1,
         1.0,
         0.0,
         0.0,
         0.0
        ],
        [
         13.89,
         2.67,
         2,
         0.0,
         0.0,
         0.0,
         0.0
        ],
        [
         18.89,
         4.32,
         1,
         0.0,
         0.0,
         0.0,
         0.0
        ],
        [
         25.12,
         1.48,
         3,
         0.0,
         0.0,
         0.0,
         0.0
        ],
        [
         14.84,
         2.78,
         2,
         0.0,
         0.0,
         0.0,
         0.0
        ],
        [
         16.89,
         3.12,
         1,
         0.0,
         0.0,
         0.0,
         0.0
        ],
        [
         21.87,
         3.69,
         1,
         1.0,
         0.0,
         0.0,
         0.0
        ],
        [
         32.21,
         2.41,
         2,
         1.0,
         0.0,
         0.0,
         0.0
        ],
        [
         29.1,
         4.51,
         2,
         0.0,
         0.0,
         0.0,
         0.0
        ],
        [
         28.45,
         2.38,
         2,
         1.0,
         0.0,
         0.0,
         0.0
        ],
        [
         16.76,
         1.69,
         3,
         0.0,
         0.0,
         0.0,
         0.0
        ],
        [
         14.35,
         5.1,
         3,
         1.0,
         0.0,
         0.0,
         0.0
        ],
        [
         23.13,
         4.59,
         2,
         0.0,
         0.0,
         0.0,
         0.0
        ],
        [
         19.9,
         4.21,
         3,
         0.0,
         0.0,
         0.0,
         0.0
        ],
        [
         18.98,
         3.42,
         3,
         0.0,
         0.0,
         0.0,
         0.0
        ],
        [
         21.43,
         2.83,
         2,
         0.0,
         0.0,
         0.0,
         0.0
        ],
        [
         33.23,
         3.78,
         2,
         0.0,
         0.0,
         0.0,
         0.0
        ]
       ],
       "datasetInfos": [],
       "dbfsResultPath": null,
       "isJsonSchema": true,
       "metadata": {},
       "overflow": false,
       "plotOptions": {
        "customPlotOptions": {},
        "displayType": "table",
        "pivotAggregation": null,
        "pivotColumns": null,
        "xColumns": null,
        "yColumns": null
       },
       "removedWidgets": [],
       "schema": [
        {
         "metadata": "{}",
         "name": "total_bills",
         "type": "\"double\""
        },
        {
         "metadata": "{}",
         "name": "tip",
         "type": "\"double\""
        },
        {
         "metadata": "{}",
         "name": "size",
         "type": "\"integer\""
        },
        {
         "metadata": "{\"ml_attr\":{\"vals\":[\"male\",\"female\"],\"type\":\"nominal\",\"name\":\"index_sex\"}}",
         "name": "index_sex",
         "type": "\"double\""
        },
        {
         "metadata": "{\"ml_attr\":{\"vals\":[\"no\"],\"type\":\"nominal\",\"name\":\"index_smoking\"}}",
         "name": "index_smoking",
         "type": "\"double\""
        },
        {
         "metadata": "{\"ml_attr\":{\"vals\":[\"sunny\"],\"type\":\"nominal\",\"name\":\"index_day\"}}",
         "name": "index_day",
         "type": "\"double\""
        },
        {
         "metadata": "{\"ml_attr\":{\"vals\":[\"dinner\"],\"type\":\"nominal\",\"name\":\"index_time\"}}",
         "name": "index_time",
         "type": "\"double\""
        }
       ],
       "type": "table"
      }
     },
     "output_type": "display_data"
    }
   ],
   "source": [
    "data = index_df.select('total_bills', 'tip', 'size', 'index_sex', 'index_smoking', 'index_day', 'index_time')\n",
    "data.display()"
   ]
  },
  {
   "cell_type": "markdown",
   "metadata": {
    "application/vnd.databricks.v1+cell": {
     "cellMetadata": {},
     "inputWidgets": {},
     "nuid": "51166da2-832d-4ab3-9efa-4b217a91d265",
     "showTitle": false,
     "tableResultSettingsMap": {},
     "title": ""
    }
   },
   "source": [
    "group the **independente** feautures"
   ]
  },
  {
   "cell_type": "code",
   "execution_count": 0,
   "metadata": {
    "application/vnd.databricks.v1+cell": {
     "cellMetadata": {
      "byteLimit": 2048000,
      "rowLimit": 10000
     },
     "inputWidgets": {},
     "nuid": "2071b5f0-e78c-4029-aa47-d53af8dd614a",
     "showTitle": false,
     "tableResultSettingsMap": {},
     "title": ""
    }
   },
   "outputs": [],
   "source": [
    "# import vectorassembler \n",
    "from pyspark.ml.feature import VectorAssembler\n",
    "from pyspark.ml.functions import vector_to_array\n",
    "\n",
    "feature = VectorAssembler(inputCols=['tip', 'size', 'index_sex', 'index_smoking', 'index_day', 'index_time'], outputCol='independent_feature')\n"
   ]
  },
  {
   "cell_type": "markdown",
   "metadata": {
    "application/vnd.databricks.v1+cell": {
     "cellMetadata": {},
     "inputWidgets": {},
     "nuid": "c9e4b8ce-5f18-429d-84f4-222dd18a80c3",
     "showTitle": false,
     "tableResultSettingsMap": {},
     "title": ""
    }
   },
   "source": [
    "transform the independent"
   ]
  },
  {
   "cell_type": "code",
   "execution_count": 0,
   "metadata": {
    "application/vnd.databricks.v1+cell": {
     "cellMetadata": {
      "byteLimit": 2048000,
      "rowLimit": 10000
     },
     "inputWidgets": {},
     "nuid": "5090395a-c510-4c8d-aaaa-e6fe0426a69a",
     "showTitle": false,
     "tableResultSettingsMap": {},
     "title": ""
    }
   },
   "outputs": [],
   "source": [
    "output = feature.transform(data)"
   ]
  },
  {
   "cell_type": "markdown",
   "metadata": {
    "application/vnd.databricks.v1+cell": {
     "cellMetadata": {},
     "inputWidgets": {},
     "nuid": "ec53e7b4-2103-47b7-8a01-0c0f95c2348c",
     "showTitle": false,
     "tableResultSettingsMap": {},
     "title": ""
    }
   },
   "source": [
    "convert the independent feature from vectorType object to array"
   ]
  },
  {
   "cell_type": "code",
   "execution_count": 0,
   "metadata": {
    "application/vnd.databricks.v1+cell": {
     "cellMetadata": {
      "byteLimit": 2048000,
      "rowLimit": 10000
     },
     "inputWidgets": {},
     "nuid": "1fbb03da-677e-4de9-bac9-ed8a27422ae2",
     "showTitle": false,
     "tableResultSettingsMap": {},
     "title": ""
    }
   },
   "outputs": [
    {
     "output_type": "display_data",
     "data": {
      "text/html": [
       "<style scoped>\n",
       "  .table-result-container {\n",
       "    max-height: 300px;\n",
       "    overflow: auto;\n",
       "  }\n",
       "  table, th, td {\n",
       "    border: 1px solid black;\n",
       "    border-collapse: collapse;\n",
       "  }\n",
       "  th, td {\n",
       "    padding: 5px;\n",
       "  }\n",
       "  th {\n",
       "    text-align: left;\n",
       "  }\n",
       "</style><div class='table-result-container'><table class='table-result'><thead style='background-color: white'><tr><th>independent_feature</th><th>total_bills</th></tr></thead><tbody><tr><td>Map(vectorType -> sparse, length -> 6, indices -> List(0, 1), values -> List(2.1, 2.0))</td><td>21.12</td></tr><tr><td>Map(vectorType -> sparse, length -> 6, indices -> List(0, 1), values -> List(1.2, 1.0))</td><td>32.17</td></tr><tr><td>Map(vectorType -> sparse, length -> 6, indices -> List(0, 1), values -> List(3.1, 3.0))</td><td>19.98</td></tr><tr><td>Map(vectorType -> dense, length -> 6, values -> List(2.16, 3.0, 1.0, 0.0, 0.0, 0.0))</td><td>12.49</td></tr><tr><td>Map(vectorType -> dense, length -> 6, values -> List(2.43, 2.0, 1.0, 0.0, 0.0, 0.0))</td><td>18.57</td></tr><tr><td>Map(vectorType -> sparse, length -> 6, indices -> List(0, 1), values -> List(1.56, 2.0))</td><td>24.25</td></tr><tr><td>Map(vectorType -> dense, length -> 6, values -> List(3.11, 1.0, 1.0, 0.0, 0.0, 0.0))</td><td>36.1</td></tr><tr><td>Map(vectorType -> dense, length -> 6, values -> List(2.31, 1.0, 1.0, 0.0, 0.0, 0.0))</td><td>27.34</td></tr><tr><td>Map(vectorType -> sparse, length -> 6, indices -> List(0, 1), values -> List(2.67, 2.0))</td><td>13.89</td></tr><tr><td>Map(vectorType -> sparse, length -> 6, indices -> List(0, 1), values -> List(4.32, 1.0))</td><td>18.89</td></tr><tr><td>Map(vectorType -> sparse, length -> 6, indices -> List(0, 1), values -> List(1.48, 3.0))</td><td>25.12</td></tr><tr><td>Map(vectorType -> sparse, length -> 6, indices -> List(0, 1), values -> List(2.78, 2.0))</td><td>14.84</td></tr><tr><td>Map(vectorType -> sparse, length -> 6, indices -> List(0, 1), values -> List(3.12, 1.0))</td><td>16.89</td></tr><tr><td>Map(vectorType -> dense, length -> 6, values -> List(3.69, 1.0, 1.0, 0.0, 0.0, 0.0))</td><td>21.87</td></tr><tr><td>Map(vectorType -> dense, length -> 6, values -> List(2.41, 2.0, 1.0, 0.0, 0.0, 0.0))</td><td>32.21</td></tr><tr><td>Map(vectorType -> sparse, length -> 6, indices -> List(0, 1), values -> List(4.51, 2.0))</td><td>29.1</td></tr><tr><td>Map(vectorType -> dense, length -> 6, values -> List(2.38, 2.0, 1.0, 0.0, 0.0, 0.0))</td><td>28.45</td></tr><tr><td>Map(vectorType -> sparse, length -> 6, indices -> List(0, 1), values -> List(1.69, 3.0))</td><td>16.76</td></tr><tr><td>Map(vectorType -> dense, length -> 6, values -> List(5.1, 3.0, 1.0, 0.0, 0.0, 0.0))</td><td>14.35</td></tr><tr><td>Map(vectorType -> sparse, length -> 6, indices -> List(0, 1), values -> List(4.59, 2.0))</td><td>23.13</td></tr><tr><td>Map(vectorType -> sparse, length -> 6, indices -> List(0, 1), values -> List(4.21, 3.0))</td><td>19.9</td></tr><tr><td>Map(vectorType -> sparse, length -> 6, indices -> List(0, 1), values -> List(3.42, 3.0))</td><td>18.98</td></tr><tr><td>Map(vectorType -> sparse, length -> 6, indices -> List(0, 1), values -> List(2.83, 2.0))</td><td>21.43</td></tr><tr><td>Map(vectorType -> sparse, length -> 6, indices -> List(0, 1), values -> List(3.78, 2.0))</td><td>33.23</td></tr></tbody></table></div>"
      ]
     },
     "metadata": {
      "application/vnd.databricks.v1+output": {
       "addedWidgets": {},
       "aggData": [],
       "aggError": "",
       "aggOverflow": false,
       "aggSchema": [],
       "aggSeriesLimitReached": false,
       "aggType": "",
       "arguments": {},
       "columnCustomDisplayInfos": {},
       "data": [
        [
         {
          "indices": [
           0,
           1
          ],
          "length": 6,
          "values": [
           2.1,
           2.0
          ],
          "vectorType": "sparse"
         },
         21.12
        ],
        [
         {
          "indices": [
           0,
           1
          ],
          "length": 6,
          "values": [
           1.2,
           1.0
          ],
          "vectorType": "sparse"
         },
         32.17
        ],
        [
         {
          "indices": [
           0,
           1
          ],
          "length": 6,
          "values": [
           3.1,
           3.0
          ],
          "vectorType": "sparse"
         },
         19.98
        ],
        [
         {
          "length": 6,
          "values": [
           2.16,
           3.0,
           1.0,
           0.0,
           0.0,
           0.0
          ],
          "vectorType": "dense"
         },
         12.49
        ],
        [
         {
          "length": 6,
          "values": [
           2.43,
           2.0,
           1.0,
           0.0,
           0.0,
           0.0
          ],
          "vectorType": "dense"
         },
         18.57
        ],
        [
         {
          "indices": [
           0,
           1
          ],
          "length": 6,
          "values": [
           1.56,
           2.0
          ],
          "vectorType": "sparse"
         },
         24.25
        ],
        [
         {
          "length": 6,
          "values": [
           3.11,
           1.0,
           1.0,
           0.0,
           0.0,
           0.0
          ],
          "vectorType": "dense"
         },
         36.1
        ],
        [
         {
          "length": 6,
          "values": [
           2.31,
           1.0,
           1.0,
           0.0,
           0.0,
           0.0
          ],
          "vectorType": "dense"
         },
         27.34
        ],
        [
         {
          "indices": [
           0,
           1
          ],
          "length": 6,
          "values": [
           2.67,
           2.0
          ],
          "vectorType": "sparse"
         },
         13.89
        ],
        [
         {
          "indices": [
           0,
           1
          ],
          "length": 6,
          "values": [
           4.32,
           1.0
          ],
          "vectorType": "sparse"
         },
         18.89
        ],
        [
         {
          "indices": [
           0,
           1
          ],
          "length": 6,
          "values": [
           1.48,
           3.0
          ],
          "vectorType": "sparse"
         },
         25.12
        ],
        [
         {
          "indices": [
           0,
           1
          ],
          "length": 6,
          "values": [
           2.78,
           2.0
          ],
          "vectorType": "sparse"
         },
         14.84
        ],
        [
         {
          "indices": [
           0,
           1
          ],
          "length": 6,
          "values": [
           3.12,
           1.0
          ],
          "vectorType": "sparse"
         },
         16.89
        ],
        [
         {
          "length": 6,
          "values": [
           3.69,
           1.0,
           1.0,
           0.0,
           0.0,
           0.0
          ],
          "vectorType": "dense"
         },
         21.87
        ],
        [
         {
          "length": 6,
          "values": [
           2.41,
           2.0,
           1.0,
           0.0,
           0.0,
           0.0
          ],
          "vectorType": "dense"
         },
         32.21
        ],
        [
         {
          "indices": [
           0,
           1
          ],
          "length": 6,
          "values": [
           4.51,
           2.0
          ],
          "vectorType": "sparse"
         },
         29.1
        ],
        [
         {
          "length": 6,
          "values": [
           2.38,
           2.0,
           1.0,
           0.0,
           0.0,
           0.0
          ],
          "vectorType": "dense"
         },
         28.45
        ],
        [
         {
          "indices": [
           0,
           1
          ],
          "length": 6,
          "values": [
           1.69,
           3.0
          ],
          "vectorType": "sparse"
         },
         16.76
        ],
        [
         {
          "length": 6,
          "values": [
           5.1,
           3.0,
           1.0,
           0.0,
           0.0,
           0.0
          ],
          "vectorType": "dense"
         },
         14.35
        ],
        [
         {
          "indices": [
           0,
           1
          ],
          "length": 6,
          "values": [
           4.59,
           2.0
          ],
          "vectorType": "sparse"
         },
         23.13
        ],
        [
         {
          "indices": [
           0,
           1
          ],
          "length": 6,
          "values": [
           4.21,
           3.0
          ],
          "vectorType": "sparse"
         },
         19.9
        ],
        [
         {
          "indices": [
           0,
           1
          ],
          "length": 6,
          "values": [
           3.42,
           3.0
          ],
          "vectorType": "sparse"
         },
         18.98
        ],
        [
         {
          "indices": [
           0,
           1
          ],
          "length": 6,
          "values": [
           2.83,
           2.0
          ],
          "vectorType": "sparse"
         },
         21.43
        ],
        [
         {
          "indices": [
           0,
           1
          ],
          "length": 6,
          "values": [
           3.78,
           2.0
          ],
          "vectorType": "sparse"
         },
         33.23
        ]
       ],
       "datasetInfos": [],
       "dbfsResultPath": null,
       "isJsonSchema": true,
       "metadata": {},
       "overflow": false,
       "plotOptions": {
        "customPlotOptions": {},
        "displayType": "table",
        "pivotAggregation": null,
        "pivotColumns": null,
        "xColumns": null,
        "yColumns": null
       },
       "removedWidgets": [],
       "schema": [
        {
         "metadata": "{\"ml_attr\":{\"attrs\":{\"numeric\":[{\"idx\":0,\"name\":\"tip\"},{\"idx\":1,\"name\":\"size\"}],\"nominal\":[{\"vals\":[\"male\",\"female\"],\"idx\":2,\"name\":\"index_sex\"},{\"vals\":[\"no\"],\"idx\":3,\"name\":\"index_smoking\"},{\"vals\":[\"sunny\"],\"idx\":4,\"name\":\"index_day\"},{\"vals\":[\"dinner\"],\"idx\":5,\"name\":\"index_time\"}]},\"num_attrs\":6}}",
         "name": "independent_feature",
         "type": "{\"type\":\"udt\",\"class\":\"org.apache.spark.ml.linalg.VectorUDT\",\"pyClass\":\"pyspark.ml.linalg.VectorUDT\",\"sqlType\":{\"type\":\"struct\",\"fields\":[{\"name\":\"type\",\"type\":\"byte\",\"nullable\":false,\"metadata\":{}},{\"name\":\"size\",\"type\":\"integer\",\"nullable\":true,\"metadata\":{}},{\"name\":\"indices\",\"type\":{\"type\":\"array\",\"elementType\":\"integer\",\"containsNull\":false},\"nullable\":true,\"metadata\":{}},{\"name\":\"values\",\"type\":{\"type\":\"array\",\"elementType\":\"double\",\"containsNull\":false},\"nullable\":true,\"metadata\":{}}]}}"
        },
        {
         "metadata": "{}",
         "name": "total_bills",
         "type": "\"double\""
        }
       ],
       "type": "table"
      }
     },
     "output_type": "display_data"
    }
   ],
   "source": [
    "real_data = output.select('independent_feature', 'total_bills')\n",
    "real_data.display()"
   ]
  },
  {
   "cell_type": "markdown",
   "metadata": {
    "application/vnd.databricks.v1+cell": {
     "cellMetadata": {},
     "inputWidgets": {},
     "nuid": "e3ca6fee-d0c1-49c3-8d03-cf712d476685",
     "showTitle": false,
     "tableResultSettingsMap": {},
     "title": ""
    }
   },
   "source": [
    "train the data"
   ]
  },
  {
   "cell_type": "code",
   "execution_count": 0,
   "metadata": {
    "application/vnd.databricks.v1+cell": {
     "cellMetadata": {
      "byteLimit": 2048000,
      "rowLimit": 10000
     },
     "inputWidgets": {},
     "nuid": "9e8b4fbc-27f8-43e5-b18b-8e434eb4b0b8",
     "showTitle": false,
     "tableResultSettingsMap": {},
     "title": ""
    }
   },
   "outputs": [],
   "source": [
    "# import linearregression\n",
    "from pyspark.ml.regression import LinearRegression\n",
    "\n",
    "train_data, test_data = real_data.randomSplit([0.75,0.25])\n",
    "regressor = LinearRegression(featuresCol='independent_feature', labelCol='total_bills')\n",
    "regressor = regressor.fit(train_data)"
   ]
  },
  {
   "cell_type": "code",
   "execution_count": 0,
   "metadata": {
    "application/vnd.databricks.v1+cell": {
     "cellMetadata": {
      "byteLimit": 2048000,
      "rowLimit": 10000
     },
     "inputWidgets": {},
     "nuid": "d5e213f4-5bd4-49c0-90d6-a90805b2ba6b",
     "showTitle": false,
     "tableResultSettingsMap": {},
     "title": ""
    }
   },
   "outputs": [
    {
     "output_type": "stream",
     "name": "stdout",
     "output_type": "stream",
     "text": [
      "Out[75]: DenseVector([-1.2503, -1.7951, 2.6845, 0.0, 0.0, 0.0])"
     ]
    }
   ],
   "source": [
    "regressor.coefficients"
   ]
  },
  {
   "cell_type": "code",
   "execution_count": 0,
   "metadata": {
    "application/vnd.databricks.v1+cell": {
     "cellMetadata": {
      "byteLimit": 2048000,
      "rowLimit": 10000
     },
     "inputWidgets": {},
     "nuid": "32bc1fb5-81a5-4f69-a641-335a9d29858c",
     "showTitle": false,
     "tableResultSettingsMap": {},
     "title": ""
    }
   },
   "outputs": [
    {
     "output_type": "stream",
     "name": "stdout",
     "output_type": "stream",
     "text": [
      "Out[76]: 29.37041174368819"
     ]
    }
   ],
   "source": [
    "regressor.intercept"
   ]
  },
  {
   "cell_type": "markdown",
   "metadata": {
    "application/vnd.databricks.v1+cell": {
     "cellMetadata": {},
     "inputWidgets": {},
     "nuid": "e86a6f26-8d5f-400b-9149-30648ce77f3c",
     "showTitle": false,
     "tableResultSettingsMap": {},
     "title": ""
    }
   },
   "source": [
    "predict"
   ]
  },
  {
   "cell_type": "code",
   "execution_count": 0,
   "metadata": {
    "application/vnd.databricks.v1+cell": {
     "cellMetadata": {
      "byteLimit": 2048000,
      "rowLimit": 10000
     },
     "inputWidgets": {},
     "nuid": "79b36dfa-8f9c-492d-8dec-f6547e30fb67",
     "showTitle": false,
     "tableResultSettingsMap": {},
     "title": ""
    }
   },
   "outputs": [
    {
     "output_type": "display_data",
     "data": {
      "text/html": [
       "<style scoped>\n",
       "  .table-result-container {\n",
       "    max-height: 300px;\n",
       "    overflow: auto;\n",
       "  }\n",
       "  table, th, td {\n",
       "    border: 1px solid black;\n",
       "    border-collapse: collapse;\n",
       "  }\n",
       "  th, td {\n",
       "    padding: 5px;\n",
       "  }\n",
       "  th {\n",
       "    text-align: left;\n",
       "  }\n",
       "</style><div class='table-result-container'><table class='table-result'><thead style='background-color: white'><tr><th>independent_feature</th><th>total_bills</th><th>prediction</th></tr></thead><tbody><tr><td>Map(vectorType -> dense, length -> 6, values -> List(2.16, 3.0, 1.0, 0.0, 0.0, 0.0))</td><td>12.49</td><td>23.968980353600223</td></tr><tr><td>Map(vectorType -> dense, length -> 6, values -> List(2.31, 1.0, 1.0, 0.0, 0.0, 0.0))</td><td>27.34</td><td>27.37165371846232</td></tr><tr><td>Map(vectorType -> dense, length -> 6, values -> List(2.43, 2.0, 1.0, 0.0, 0.0, 0.0))</td><td>18.57</td><td>25.426513741367778</td></tr><tr><td>Map(vectorType -> dense, length -> 6, values -> List(3.11, 1.0, 1.0, 0.0, 0.0, 0.0))</td><td>36.1</td><td>26.371435073689003</td></tr></tbody></table></div>"
      ]
     },
     "metadata": {
      "application/vnd.databricks.v1+output": {
       "addedWidgets": {},
       "aggData": [],
       "aggError": "",
       "aggOverflow": false,
       "aggSchema": [],
       "aggSeriesLimitReached": false,
       "aggType": "",
       "arguments": {},
       "columnCustomDisplayInfos": {},
       "data": [
        [
         {
          "length": 6,
          "values": [
           2.16,
           3.0,
           1.0,
           0.0,
           0.0,
           0.0
          ],
          "vectorType": "dense"
         },
         12.49,
         23.968980353600223
        ],
        [
         {
          "length": 6,
          "values": [
           2.31,
           1.0,
           1.0,
           0.0,
           0.0,
           0.0
          ],
          "vectorType": "dense"
         },
         27.34,
         27.37165371846232
        ],
        [
         {
          "length": 6,
          "values": [
           2.43,
           2.0,
           1.0,
           0.0,
           0.0,
           0.0
          ],
          "vectorType": "dense"
         },
         18.57,
         25.426513741367778
        ],
        [
         {
          "length": 6,
          "values": [
           3.11,
           1.0,
           1.0,
           0.0,
           0.0,
           0.0
          ],
          "vectorType": "dense"
         },
         36.1,
         26.371435073689003
        ]
       ],
       "datasetInfos": [],
       "dbfsResultPath": null,
       "isJsonSchema": true,
       "metadata": {},
       "overflow": false,
       "plotOptions": {
        "customPlotOptions": {},
        "displayType": "table",
        "pivotAggregation": null,
        "pivotColumns": null,
        "xColumns": null,
        "yColumns": null
       },
       "removedWidgets": [],
       "schema": [
        {
         "metadata": "{\"ml_attr\":{\"attrs\":{\"numeric\":[{\"idx\":0,\"name\":\"tip\"},{\"idx\":1,\"name\":\"size\"}],\"nominal\":[{\"vals\":[\"male\",\"female\"],\"idx\":2,\"name\":\"index_sex\"},{\"vals\":[\"no\"],\"idx\":3,\"name\":\"index_smoking\"},{\"vals\":[\"sunny\"],\"idx\":4,\"name\":\"index_day\"},{\"vals\":[\"dinner\"],\"idx\":5,\"name\":\"index_time\"}]},\"num_attrs\":6}}",
         "name": "independent_feature",
         "type": "{\"type\":\"udt\",\"class\":\"org.apache.spark.ml.linalg.VectorUDT\",\"pyClass\":\"pyspark.ml.linalg.VectorUDT\",\"sqlType\":{\"type\":\"struct\",\"fields\":[{\"name\":\"type\",\"type\":\"byte\",\"nullable\":false,\"metadata\":{}},{\"name\":\"size\",\"type\":\"integer\",\"nullable\":true,\"metadata\":{}},{\"name\":\"indices\",\"type\":{\"type\":\"array\",\"elementType\":\"integer\",\"containsNull\":false},\"nullable\":true,\"metadata\":{}},{\"name\":\"values\",\"type\":{\"type\":\"array\",\"elementType\":\"double\",\"containsNull\":false},\"nullable\":true,\"metadata\":{}}]}}"
        },
        {
         "metadata": "{}",
         "name": "total_bills",
         "type": "\"double\""
        },
        {
         "metadata": "{\"ml_attr\":{}}",
         "name": "prediction",
         "type": "\"double\""
        }
       ],
       "type": "table"
      }
     },
     "output_type": "display_data"
    }
   ],
   "source": [
    "pred_result = regressor.evaluate(test_data)\n",
    "pred_result.predictions.display()"
   ]
  },
  {
   "cell_type": "code",
   "execution_count": 0,
   "metadata": {
    "application/vnd.databricks.v1+cell": {
     "cellMetadata": {
      "byteLimit": 2048000,
      "rowLimit": 10000
     },
     "inputWidgets": {},
     "nuid": "857fea5d-2af6-47d9-8346-3f968677fb5c",
     "showTitle": false,
     "tableResultSettingsMap": {},
     "title": ""
    }
   },
   "outputs": [
    {
     "output_type": "stream",
     "name": "stdout",
     "output_type": "stream",
     "text": [
      "Out[78]: (0.14278340646840226, 7.02392818493533, 68.35618703181152)"
     ]
    }
   ],
   "source": [
    "pred_result.r2, pred_result.meanAbsoluteError, pred_result.meanSquaredError\n"
   ]
  },
  {
   "cell_type": "code",
   "execution_count": 0,
   "metadata": {
    "application/vnd.databricks.v1+cell": {
     "cellMetadata": {},
     "inputWidgets": {},
     "nuid": "e8465000-f263-4b95-9300-00008f05c5a6",
     "showTitle": false,
     "tableResultSettingsMap": {},
     "title": ""
    }
   },
   "outputs": [],
   "source": []
  }
 ],
 "metadata": {
  "application/vnd.databricks.v1+notebook": {
   "computePreferences": null,
   "dashboards": [],
   "environmentMetadata": {
    "base_environment": "",
    "environment_version": "1"
   },
   "inputWidgetPreferences": null,
   "language": "python",
   "notebookMetadata": {
    "pythonIndentUnit": 4
   },
   "notebookName": "Employee tips prediction",
   "widgets": {}
  }
 },
 "nbformat": 4,
 "nbformat_minor": 0
}